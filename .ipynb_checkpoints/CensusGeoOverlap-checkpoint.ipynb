{
 "cells": [
  {
   "cell_type": "markdown",
   "metadata": {},
   "source": [
    "# Exploring Overlapping Census Boundaries"
   ]
  },
  {
   "cell_type": "markdown",
   "metadata": {},
   "source": [
    "Evaluating the implications of TELs for debt activity at the local level requires some notion of the demographic characteristics of the jurisdictions in question.  This raises an operational problem.  The debt activity occurs at multiple levels of government, perhaps most often at the municipal or special district level.  By contrast, socioeconomic data is generally collected in detail at the county level (or larger).  Some method of allocating socioeconomic information to smaller jurisdictions must be derived to provide enough information for legit statistical specifications.\n",
    "\n",
    "The question of how to allocate this information has non-trivial implications for the analysis that it facilitates.  I have [previously proposed](http://gis.stackexchange.com/questions/157610/harmonizing-data-across-geographic-scopes-layers) some rough adjustment mechanisms, but they generally rely on strong assumptions about the spatial distribution of people within a given jurisdiction.  Fortunately, as Dan has pointed out, the [Missouri Census Data Center](http://mcdc.missouri.edu/) (MCDC) has developed a [tool](http://mcdc.missouri.edu/websas/geocorr12.html) that offers a far more robust solution.  Instead of relying assumptions of uniform distributions of people, the tool aggregates up from the block level to provide information on the extent of the overlap across Census geographies.  This approach allows us to retain information that blunt assumptions would discard.  The following description of the tool's capability is taken directly from [MCDC's docs](http://mcdc.missouri.edu/websas/geocorr90_htmls/geocorr.help.html):\n",
    "\n",
    ">*The MABLE/Geocorr geographic correspondence engine generates files and/or reports showing the relationships between a wide variety of geographic coverages for the United States. It can, for example, tell you with which county or counties each ZIP code in the state of California shares population. It can tell you, for each of those ZIP/county intersections, what the size of that intersection is (based on 1990 population or other user-specifed variable) and what portion of the ZIP's total population is in that intersection. The application permits the user to specify the geographic scope of the correspondence files (typically, one or more complete states, but with the ability to specify counties, cities, or metropolitan areas within those states), and, of course, the specific geographic coverages to be processed. The latter include virtually all geographic units reported in the 1990 U.S. census summary files, and several special \"extension coverages\" such as 103rd Congress districts, PUMA areas used in the 1990 PUMS files, Labor Market and Commuting Zone areas, and even hydrolgical unit codes (watersheds.) The application creates a report file and a comma-delimited ascii file (by default) which the user can then browse and/or save to their local disk.*\n",
    "\n",
    "It's difficult to overstate how damn useful this is.  In any event, I've taken the liberty of grabbing a [run](http://mcdc.missouri.edu/tmpscratch/22AUG0900580.geocorr12/geocorr12.csv) from the tool that captures overlap between Census places and counties for all states in the country.  In this Notebook, we will explore these overlaps.  Even with this information, we will still be faced with discretionary choices about how to allocate socioeconomic information that is not countable.  Rather, it is reported statistically, and we clearly have no access to the underlying microdata (think distributions of income or political affiliation, industrial mixtures, etc.).  Any decisions we make on this front will create bias, and the magnitude of this bias will be a function of the extent to which Census places do not nest well into Census counties.  Consequently, this Notebook seeks to develop a method for thinking about this discord.  Note that we may very well decide that Census places are not the appropriate unit of analysis.  The method developed here, however, should be applicable to other geographic combinations."
   ]
  },
  {
   "cell_type": "code",
   "execution_count": 3,
   "metadata": {
    "collapsed": false
   },
   "outputs": [
    {
     "name": "stdout",
     "output_type": "stream",
     "text": [
      "Populating the interactive namespace from numpy and matplotlib\n"
     ]
    },
    {
     "name": "stderr",
     "output_type": "stream",
     "text": [
      "WARNING: pylab import has clobbered these variables: ['shape', 'Polygon']\n",
      "`%matplotlib` prevents importing * from pylab and numpy\n"
     ]
    }
   ],
   "source": [
    "#Basic data manipulation\n",
    "import numpy as np\n",
    "import pandas as pd\n",
    "from pandas import Series, DataFrame\n",
    "\n",
    "#Spatial I/O\n",
    "import fiona\n",
    "\n",
    "#Spatial Geometry Manipulation\n",
    "from shapely.geometry import shape,LineString,Polygon,MultiPolygon\n",
    "from shapely.ops import unary_union\n",
    "from descartes import PolygonPatch\n",
    "from rtree import index\n",
    "\n",
    "#Visualization\n",
    "from matplotlib.collections import PatchCollection\n",
    "from mpltools import color\n",
    "import seaborn as sb\n",
    "\n",
    "%pylab inline\n",
    "\n",
    "plt.rcParams['axes.edgecolor']='black'\n",
    "plt.rcParams['axes.facecolor']='white'\n",
    "plt.rcParams['axes.linewidth']=.5\n",
    "plt.rcParams['grid.color']='#CBCBCC'\n",
    "plt.rcParams['patch.facecolor']=(0.8,0.,0.)\n",
    "plt.rcParams['patch.edgecolor']='w'\n",
    "plt.rcParams['patch.linewidth']=1.\n",
    "\n",
    "def simpleaxis(ax):\n",
    "    ax.spines['top'].set_visible(False)\n",
    "    ax.spines['right'].set_visible(False)\n",
    "    ax.get_xaxis().tick_bottom()\n",
    "    ax.get_yaxis().tick_left()"
   ]
  },
  {
   "cell_type": "markdown",
   "metadata": {},
   "source": [
    "## Data Input"
   ]
  },
  {
   "cell_type": "markdown",
   "metadata": {},
   "source": [
    "I am not sure how persistent the [link to our MABLE run](http://mcdc.missouri.edu/tmpscratch/22AUG0900580.geocorr12/geocorr12.csv) is, so the [data are housed in this repository](https://github.com/choct155/TELs_debt/blob/master/geocorr12.csv) as well.  Note that a slight modification has been made.  The initial data had two header rows.  The second one was just a more descriptive version of the first, and it was creating issues with the input parser, so it has been jettisoned."
   ]
  },
  {
   "cell_type": "code",
   "execution_count": 4,
   "metadata": {
    "collapsed": false
   },
   "outputs": [
    {
     "name": "stdout",
     "output_type": "stream",
     "text": [
      "<class 'pandas.core.frame.DataFrame'>\n",
      "Int64Index: 33407 entries, 0 to 33406\n",
      "Data columns (total 11 columns):\n",
      "state       33407 non-null int64\n",
      "placefp     33407 non-null int64\n",
      "county      33407 non-null int64\n",
      "stab        33407 non-null object\n",
      "cntyname    33407 non-null object\n",
      "placenm     33407 non-null object\n",
      "intptlon    33407 non-null float64\n",
      "intptlat    33407 non-null float64\n",
      "pop10       33407 non-null int64\n",
      "afact       33407 non-null float64\n",
      "AFACT2      33407 non-null float64\n",
      "dtypes: float64(4), int64(4), object(3)\n",
      "memory usage: 3.1+ MB\n",
      "None\n"
     ]
    },
    {
     "data": {
      "text/html": [
       "<div>\n",
       "<table border=\"1\" class=\"dataframe\">\n",
       "  <thead>\n",
       "    <tr style=\"text-align: right;\">\n",
       "      <th></th>\n",
       "      <th>state</th>\n",
       "      <th>placefp</th>\n",
       "      <th>county</th>\n",
       "      <th>stab</th>\n",
       "      <th>cntyname</th>\n",
       "      <th>placenm</th>\n",
       "      <th>intptlon</th>\n",
       "      <th>intptlat</th>\n",
       "      <th>pop10</th>\n",
       "      <th>afact</th>\n",
       "      <th>AFACT2</th>\n",
       "    </tr>\n",
       "  </thead>\n",
       "  <tbody>\n",
       "    <tr>\n",
       "      <th>0</th>\n",
       "      <td>1</td>\n",
       "      <td>100</td>\n",
       "      <td>1017</td>\n",
       "      <td>AL</td>\n",
       "      <td>Chambers AL</td>\n",
       "      <td>Abanda CDP, AL</td>\n",
       "      <td>-85.526890</td>\n",
       "      <td>33.093251</td>\n",
       "      <td>192</td>\n",
       "      <td>1</td>\n",
       "      <td>0.005612</td>\n",
       "    </tr>\n",
       "    <tr>\n",
       "      <th>1</th>\n",
       "      <td>1</td>\n",
       "      <td>124</td>\n",
       "      <td>1067</td>\n",
       "      <td>AL</td>\n",
       "      <td>Henry AL</td>\n",
       "      <td>Abbeville city, AL</td>\n",
       "      <td>-85.251914</td>\n",
       "      <td>31.562700</td>\n",
       "      <td>2688</td>\n",
       "      <td>1</td>\n",
       "      <td>0.155358</td>\n",
       "    </tr>\n",
       "    <tr>\n",
       "      <th>2</th>\n",
       "      <td>1</td>\n",
       "      <td>460</td>\n",
       "      <td>1073</td>\n",
       "      <td>AL</td>\n",
       "      <td>Jefferson AL</td>\n",
       "      <td>Adamsville city, AL</td>\n",
       "      <td>-86.956729</td>\n",
       "      <td>33.593552</td>\n",
       "      <td>4522</td>\n",
       "      <td>1</td>\n",
       "      <td>0.006867</td>\n",
       "    </tr>\n",
       "    <tr>\n",
       "      <th>3</th>\n",
       "      <td>1</td>\n",
       "      <td>484</td>\n",
       "      <td>1133</td>\n",
       "      <td>AL</td>\n",
       "      <td>Winston AL</td>\n",
       "      <td>Addison town, AL</td>\n",
       "      <td>-87.178121</td>\n",
       "      <td>34.201511</td>\n",
       "      <td>758</td>\n",
       "      <td>1</td>\n",
       "      <td>0.030959</td>\n",
       "    </tr>\n",
       "    <tr>\n",
       "      <th>4</th>\n",
       "      <td>1</td>\n",
       "      <td>676</td>\n",
       "      <td>1065</td>\n",
       "      <td>AL</td>\n",
       "      <td>Hale AL</td>\n",
       "      <td>Akron town, AL</td>\n",
       "      <td>-87.742279</td>\n",
       "      <td>32.876794</td>\n",
       "      <td>356</td>\n",
       "      <td>1</td>\n",
       "      <td>0.022589</td>\n",
       "    </tr>\n",
       "  </tbody>\n",
       "</table>\n",
       "</div>"
      ],
      "text/plain": [
       "   state  placefp  county stab      cntyname              placenm   intptlon  \\\n",
       "0      1      100    1017   AL   Chambers AL       Abanda CDP, AL -85.526890   \n",
       "1      1      124    1067   AL      Henry AL   Abbeville city, AL -85.251914   \n",
       "2      1      460    1073   AL  Jefferson AL  Adamsville city, AL -86.956729   \n",
       "3      1      484    1133   AL    Winston AL     Addison town, AL -87.178121   \n",
       "4      1      676    1065   AL       Hale AL       Akron town, AL -87.742279   \n",
       "\n",
       "    intptlat  pop10  afact    AFACT2  \n",
       "0  33.093251    192      1  0.005612  \n",
       "1  31.562700   2688      1  0.155358  \n",
       "2  33.593552   4522      1  0.006867  \n",
       "3  34.201511    758      1  0.030959  \n",
       "4  32.876794    356      1  0.022589  "
      ]
     },
     "execution_count": 4,
     "metadata": {},
     "output_type": "execute_result"
    }
   ],
   "source": [
    "#Read in data\n",
    "mcdc=pd.read_csv('geocorr12.csv')\n",
    "\n",
    "print mcdc.info()\n",
    "\n",
    "mcdc.head()"
   ]
  },
  {
   "cell_type": "markdown",
   "metadata": {},
   "source": [
    "Some explanation is in order here. The `state`, `placefp`, `county` variables capture [FIPS](https://en.wikipedia.org/wiki/Federal_Information_Processing_Standards) codes for each Census geography, and they correspond to the descriptive names in `stab`, `placenm`, and `cntyname`, respectively.  The longitude and latitude information in `intptlon` and `intptlat` identify the centroid of each Census place (just place hereafter) in most cases.  If the geometry of the place is such that the centroid lies outside of place boundaries, the centroid is moved to the nearest boundary point.  \n",
    "\n",
    "The last three variables contain the real meat. `pop10` does not capture the entire population of the place, but rather *the population in the intersection*.  Observe three split places in Alabama: Altoona Town, Arab City, and Argo Town."
   ]
  },
  {
   "cell_type": "code",
   "execution_count": 5,
   "metadata": {
    "collapsed": false
   },
   "outputs": [
    {
     "data": {
      "text/html": [
       "<div>\n",
       "<table border=\"1\" class=\"dataframe\">\n",
       "  <thead>\n",
       "    <tr style=\"text-align: right;\">\n",
       "      <th></th>\n",
       "      <th>state</th>\n",
       "      <th>placefp</th>\n",
       "      <th>county</th>\n",
       "      <th>stab</th>\n",
       "      <th>cntyname</th>\n",
       "      <th>placenm</th>\n",
       "      <th>intptlon</th>\n",
       "      <th>intptlat</th>\n",
       "      <th>pop10</th>\n",
       "      <th>afact</th>\n",
       "      <th>AFACT2</th>\n",
       "    </tr>\n",
       "  </thead>\n",
       "  <tbody>\n",
       "    <tr>\n",
       "      <th>11</th>\n",
       "      <td>1</td>\n",
       "      <td>1660</td>\n",
       "      <td>1009</td>\n",
       "      <td>AL</td>\n",
       "      <td>Blount AL</td>\n",
       "      <td>Altoona town, AL</td>\n",
       "      <td>-86.342771</td>\n",
       "      <td>34.022778</td>\n",
       "      <td>30</td>\n",
       "      <td>0.032154</td>\n",
       "      <td>0.000523</td>\n",
       "    </tr>\n",
       "    <tr>\n",
       "      <th>12</th>\n",
       "      <td>1</td>\n",
       "      <td>1660</td>\n",
       "      <td>1055</td>\n",
       "      <td>AL</td>\n",
       "      <td>Etowah AL</td>\n",
       "      <td>Altoona town, AL</td>\n",
       "      <td>-86.322138</td>\n",
       "      <td>34.030113</td>\n",
       "      <td>903</td>\n",
       "      <td>0.967845</td>\n",
       "      <td>0.008647</td>\n",
       "    </tr>\n",
       "    <tr>\n",
       "      <th>16</th>\n",
       "      <td>1</td>\n",
       "      <td>2116</td>\n",
       "      <td>1043</td>\n",
       "      <td>AL</td>\n",
       "      <td>Cullman AL</td>\n",
       "      <td>Arab city, AL</td>\n",
       "      <td>-86.503964</td>\n",
       "      <td>34.298482</td>\n",
       "      <td>27</td>\n",
       "      <td>0.003354</td>\n",
       "      <td>0.000336</td>\n",
       "    </tr>\n",
       "    <tr>\n",
       "      <th>17</th>\n",
       "      <td>1</td>\n",
       "      <td>2116</td>\n",
       "      <td>1095</td>\n",
       "      <td>AL</td>\n",
       "      <td>Marshall AL</td>\n",
       "      <td>Arab city, AL</td>\n",
       "      <td>-86.498783</td>\n",
       "      <td>34.328208</td>\n",
       "      <td>8023</td>\n",
       "      <td>0.996646</td>\n",
       "      <td>0.086251</td>\n",
       "    </tr>\n",
       "    <tr>\n",
       "      <th>19</th>\n",
       "      <td>1</td>\n",
       "      <td>2320</td>\n",
       "      <td>1073</td>\n",
       "      <td>AL</td>\n",
       "      <td>Jefferson AL</td>\n",
       "      <td>Argo town, AL</td>\n",
       "      <td>-86.527963</td>\n",
       "      <td>33.710423</td>\n",
       "      <td>61</td>\n",
       "      <td>0.014984</td>\n",
       "      <td>0.000093</td>\n",
       "    </tr>\n",
       "    <tr>\n",
       "      <th>20</th>\n",
       "      <td>1</td>\n",
       "      <td>2320</td>\n",
       "      <td>1115</td>\n",
       "      <td>AL</td>\n",
       "      <td>St. Clair AL</td>\n",
       "      <td>Argo town, AL</td>\n",
       "      <td>-86.504219</td>\n",
       "      <td>33.697150</td>\n",
       "      <td>4010</td>\n",
       "      <td>0.985016</td>\n",
       "      <td>0.047971</td>\n",
       "    </tr>\n",
       "  </tbody>\n",
       "</table>\n",
       "</div>"
      ],
      "text/plain": [
       "    state  placefp  county stab      cntyname           placenm   intptlon  \\\n",
       "11      1     1660    1009   AL     Blount AL  Altoona town, AL -86.342771   \n",
       "12      1     1660    1055   AL     Etowah AL  Altoona town, AL -86.322138   \n",
       "16      1     2116    1043   AL    Cullman AL     Arab city, AL -86.503964   \n",
       "17      1     2116    1095   AL   Marshall AL     Arab city, AL -86.498783   \n",
       "19      1     2320    1073   AL  Jefferson AL     Argo town, AL -86.527963   \n",
       "20      1     2320    1115   AL  St. Clair AL     Argo town, AL -86.504219   \n",
       "\n",
       "     intptlat  pop10     afact    AFACT2  \n",
       "11  34.022778     30  0.032154  0.000523  \n",
       "12  34.030113    903  0.967845  0.008647  \n",
       "16  34.298482     27  0.003354  0.000336  \n",
       "17  34.328208   8023  0.996646  0.086251  \n",
       "19  33.710423     61  0.014984  0.000093  \n",
       "20  33.697150   4010  0.985016  0.047971  "
      ]
     },
     "execution_count": 5,
     "metadata": {},
     "output_type": "execute_result"
    }
   ],
   "source": [
    "mcdc[mcdc['afact']<1].head(6)"
   ]
  },
  {
   "cell_type": "markdown",
   "metadata": {},
   "source": [
    "Altoona is split by the border between Blount and Etowah counties, though most of it resides in Etowah.  The total population of Altoona is 933.  Likewise, the populations of Arab City and Argo Town are 8050 and 4071, respectively.  Since we have used population to define the overlap, these numbers correspond directly to the allocation factor values stored in the `afact` variable.  Approximately 97% of Altoona's population is contained by Etowah County.  The second allocation factor (`AFACT2`) tells us the proportion of the county population that resides in a given place.  So, 0.8% of Etowah County residents live in Altoona Town."
   ]
  },
  {
   "cell_type": "markdown",
   "metadata": {},
   "source": [
    "## What is the Scale of Overlap?"
   ]
  },
  {
   "cell_type": "markdown",
   "metadata": {},
   "source": [
    "A natural starting place would be to determine how often county boundaries actually split places.  We can answer this question easily, because wholly contained places can be identified by `afact==1`.  How many places have we captured, and how many are wholly contained?"
   ]
  },
  {
   "cell_type": "code",
   "execution_count": 6,
   "metadata": {
    "collapsed": false
   },
   "outputs": [
    {
     "name": "stdout",
     "output_type": "stream",
     "text": [
      "Number of places: 29180\n",
      "Number of wholly contained places: 28167\n",
      "Proportion of wholly contained places: 0.965284441398\n"
     ]
    }
   ],
   "source": [
    "#Capture counts of places and proportion of wholly contained\n",
    "num_places=len(set(mcdc['placenm']))\n",
    "num_wc_places=len(set(mcdc[mcdc['afact']==1]['placenm']))\n",
    "prop_wc_places=num_wc_places/float(num_places)\n",
    "\n",
    "print 'Number of places:',num_places\n",
    "print 'Number of wholly contained places:',num_wc_places\n",
    "print 'Proportion of wholly contained places:',prop_wc_places"
   ]
  },
  {
   "cell_type": "markdown",
   "metadata": {},
   "source": [
    "It is encouraging to see that places are split only about 3.5% of the time.  How large is the affected population?"
   ]
  },
  {
   "cell_type": "code",
   "execution_count": 7,
   "metadata": {
    "collapsed": false
   },
   "outputs": [
    {
     "name": "stdout",
     "output_type": "stream",
     "text": [
      "Estimated total population: 308745538\n",
      "Population of wholly contained places: 196411745\n",
      "Wholly contained population proportion: 0.636160594489\n"
     ]
    }
   ],
   "source": [
    "#Capture total pop, wholly contained pop, and the proportion\n",
    "total_pop=mcdc['pop10'].sum()\n",
    "wc_pop=mcdc[mcdc['afact']==1]['pop10'].sum()\n",
    "wc_pop_prop=wc_pop/float(total_pop)\n",
    "\n",
    "print 'Estimated total population:',total_pop\n",
    "print 'Population of wholly contained places:',wc_pop\n",
    "print 'Wholly contained population proportion:',wc_pop_prop"
   ]
  },
  {
   "cell_type": "markdown",
   "metadata": {},
   "source": [
    "It is decidedly less encouraging to see that the 3.5% of places account for 36.4% of the population.  It appears the choices we make will be meaningful."
   ]
  },
  {
   "cell_type": "markdown",
   "metadata": {
    "collapsed": true
   },
   "source": [
    "## How Might We Apportion Uncountable Data?"
   ]
  },
  {
   "cell_type": "markdown",
   "metadata": {},
   "source": [
    "How should distributional information be combined for places split by county borders?  There are at least three approaches that may be taken:\n",
    "\n",
    "1. *Apply the characteristics of the county housing the largest portion of the place.*  In our small example above from Alabama we see that while those three towns are split, each has 96.7% or more of their population in one county.  Conceivably, we could just write the rest off as rounding error.  Alternatively, one could argue that within place continuity is likely to be a more dominant factor than the broader characteristics of the county that contains only a small percentage of the place.  Of course, this gets to be problematic if a place is more evenly divided, and worse still if more than two counties are involved.\n",
    "2. *Apply the population-weighted average of the distributions for all involved counties.*  This approach explicitly includes effects from all involved counties.  The argument could be made that even if the county containing only a very small portion of the place has little effect, the low weight will enforce its irrelevance.  This approach does some work to mitigate concerns over fairly even splits.\n",
    "3. *Don't apportion at all and use the intersections as the unit of analysis.*  This seems to be generally a bad approach, insofar as it disrupts jurisdictional scope for fiscal decisionmaking by relevant officials.  For the sake of argument, however, it would eliminate the need to apportion distributional information at all.  We could just use the information as is.\n",
    "\n",
    "Let's examine the first two options in greater detail."
   ]
  },
  {
   "cell_type": "markdown",
   "metadata": {},
   "source": [
    "### Option 1: Plurality"
   ]
  },
  {
   "cell_type": "markdown",
   "metadata": {},
   "source": [
    "In the plurality approach, the big weakness is the potential for relatively even splits.  How often does this actually happen?"
   ]
  },
  {
   "cell_type": "code",
   "execution_count": 8,
   "metadata": {
    "collapsed": false,
    "scrolled": true
   },
   "outputs": [],
   "source": [
    "#plt.rcParams"
   ]
  },
  {
   "cell_type": "code",
   "execution_count": 9,
   "metadata": {
    "collapsed": false
   },
   "outputs": [
    {
     "data": {
      "image/png": "[encoded data removed]",
      "text/plain": [
       "<matplotlib.figure.Figure at 0x7fbec8bd2190>"
      ]
     },
     "metadata": {},
     "output_type": "display_data"
    }
   ],
   "source": [
    "#Capture splits\n",
    "splits=mcdc[mcdc['afact']!=1]\n",
    "\n",
    "#Generate plot object\n",
    "fig,ax=plt.subplots(figsize=(12,6))\n",
    "\n",
    "#Plot distribution of place population proportions (afact)\n",
    "sb.distplot(splits['afact'],ax=ax,color='#CC0000')\n",
    "\n",
    "#Fix labels\n",
    "ax.set_title('Distribution of Place Population Propotions for Split Places',fontsize=16)\n",
    "ax.set_xlabel('Proportion of Place in County')\n",
    "ax.set_ylabel('Split Place Count');"
   ]
  },
  {
   "cell_type": "markdown",
   "metadata": {},
   "source": [
    "Interesting, those even splits look quite low.  What happens if we weight by population?  "
   ]
  },
  {
   "cell_type": "code",
   "execution_count": 10,
   "metadata": {
    "collapsed": false
   },
   "outputs": [
    {
     "name": "stderr",
     "output_type": "stream",
     "text": [
      "/home/choct155/analysis/Anaconda/lib/python2.7/site-packages/IPython/kernel/__main__.py:2: SettingWithCopyWarning: \n",
      "A value is trying to be set on a copy of a slice from a DataFrame.\n",
      "Try using .loc[row_indexer,col_indexer] = value instead\n",
      "\n",
      "See the the caveats in the documentation: http://pandas.pydata.org/pandas-docs/stable/indexing.html#indexing-view-versus-copy\n",
      "  from IPython.kernel.zmq import kernelapp as app\n"
     ]
    },
    {
     "data": {
      "text/plain": [
       "afact_bin\n",
       "(0, 0.1]      72557687\n",
       "(0.1, 0.2]     8154341\n",
       "(0.2, 0.3]     5738820\n",
       "(0.3, 0.4]     3399484\n",
       "(0.4, 0.5]      398822\n",
       "(0.5, 0.6]      746048\n",
       "(0.6, 0.7]      970756\n",
       "(0.7, 0.8]     1071665\n",
       "(0.8, 0.9]     2238492\n",
       "(0.9, 1]      17057678\n",
       "Name: pop10, dtype: int64"
      ]
     },
     "execution_count": 10,
     "metadata": {},
     "output_type": "execute_result"
    },
    {
     "data": {
      "image/png": "[encoded data removed]",
      "text/plain": [
       "<matplotlib.figure.Figure at 0x7fbedd8bca90>"
      ]
     },
     "metadata": {},
     "output_type": "display_data"
    }
   ],
   "source": [
    "#Bin population proportions\n",
    "splits['afact_bin']=pd.cut(splits['afact'],list(np.linspace(0,1,11)))\n",
    "\n",
    "#Capture population counts by afact_bin\n",
    "split_bin=splits.groupby('afact_bin').sum()['pop10']\n",
    "\n",
    "#Generate plot object\n",
    "fig,ax=plt.subplots(figsize=(12,6))\n",
    "\n",
    "#Plot the weighted distribution\n",
    "split_bin.plot(kind='bar',ax=ax,color='#CC0000')\n",
    "\n",
    "#Fix labels\n",
    "ax.set_title('Population Weighted Distribution of Population Proportions for Split Places',fontsize=16)\n",
    "ax.set_xlabel('Proportion of Place in County')\n",
    "ax.set_ylabel('Split Place Population Count')\n",
    "ax.set_xticklabels([item.get_text() for item in ax.get_xticklabels()],rotation=0)\n",
    "\n",
    "split_bin"
   ]
  },
  {
   "cell_type": "markdown",
   "metadata": {},
   "source": [
    "So, even population weighted, we still have a very bimodal split distribution.  This suggests that if we were to go the plurality way, the costs may be fairly contained."
   ]
  },
  {
   "cell_type": "markdown",
   "metadata": {},
   "source": [
    "### Option 2: Weighted Average"
   ]
  },
  {
   "cell_type": "markdown",
   "metadata": {},
   "source": [
    "The challenge in combining distributional information extends from lack of knowledge about the underlying data.  The extent to which this creates a problem decreases as data resolution increases.  Said differently, we can get better precision in a distribution mix as the number of bins increases.  If we had only one data point per county, say median age, we don't know enough about the shapes of the distribution to combine two county median ages into one median age for the split place.  The assumptions required for such an estimate would be generally stronger than that which is required with additional distributional guideposts.  Those guideposts provide information on the potential range in marginal changes associated with moving the median to an \"adjacent\" member of the population.  For example, without other distributional guideposts, we could not tell the difference between the following populations..."
   ]
  },
  {
   "cell_type": "code",
   "execution_count": 11,
   "metadata": {
    "collapsed": false
   },
   "outputs": [
    {
     "name": "stdout",
     "output_type": "stream",
     "text": [
      "POP 1:  [1, 1, 1, 1, 5, 9, 9, 9, 9]\n",
      "POP 2:  [1, 2, 3, 4, 5, 6, 7, 8, 9]\n"
     ]
    }
   ],
   "source": [
    "#Define populations\n",
    "pop1=[1]*4+[5]+[9]*4\n",
    "pop2=range(1,10)\n",
    "print 'POP 1: ',pop1\n",
    "print 'POP 2: ',pop2"
   ]
  },
  {
   "cell_type": "markdown",
   "metadata": {},
   "source": [
    "Additional information puts boundaries on the volatility in the median."
   ]
  },
  {
   "cell_type": "code",
   "execution_count": 12,
   "metadata": {
    "collapsed": false
   },
   "outputs": [
    {
     "data": {
      "text/html": [
       "<div>\n",
       "<table border=\"1\" class=\"dataframe\">\n",
       "  <thead>\n",
       "    <tr style=\"text-align: right;\">\n",
       "      <th></th>\n",
       "      <th>POP1</th>\n",
       "      <th>POP2</th>\n",
       "    </tr>\n",
       "  </thead>\n",
       "  <tbody>\n",
       "    <tr>\n",
       "      <th>count</th>\n",
       "      <td>9</td>\n",
       "      <td>9.000000</td>\n",
       "    </tr>\n",
       "    <tr>\n",
       "      <th>mean</th>\n",
       "      <td>5</td>\n",
       "      <td>5.000000</td>\n",
       "    </tr>\n",
       "    <tr>\n",
       "      <th>std</th>\n",
       "      <td>4</td>\n",
       "      <td>2.738613</td>\n",
       "    </tr>\n",
       "    <tr>\n",
       "      <th>min</th>\n",
       "      <td>1</td>\n",
       "      <td>1.000000</td>\n",
       "    </tr>\n",
       "    <tr>\n",
       "      <th>25%</th>\n",
       "      <td>1</td>\n",
       "      <td>3.000000</td>\n",
       "    </tr>\n",
       "    <tr>\n",
       "      <th>50%</th>\n",
       "      <td>5</td>\n",
       "      <td>5.000000</td>\n",
       "    </tr>\n",
       "    <tr>\n",
       "      <th>75%</th>\n",
       "      <td>9</td>\n",
       "      <td>7.000000</td>\n",
       "    </tr>\n",
       "    <tr>\n",
       "      <th>max</th>\n",
       "      <td>9</td>\n",
       "      <td>9.000000</td>\n",
       "    </tr>\n",
       "  </tbody>\n",
       "</table>\n",
       "</div>"
      ],
      "text/plain": [
       "       POP1      POP2\n",
       "count     9  9.000000\n",
       "mean      5  5.000000\n",
       "std       4  2.738613\n",
       "min       1  1.000000\n",
       "25%       1  3.000000\n",
       "50%       5  5.000000\n",
       "75%       9  7.000000\n",
       "max       9  9.000000"
      ]
     },
     "execution_count": 12,
     "metadata": {},
     "output_type": "execute_result"
    }
   ],
   "source": [
    "DataFrame(Series(pop1).describe(),columns=['POP1']).join(DataFrame(Series(pop2).describe(),columns=['POP2']))"
   ]
  },
  {
   "cell_type": "markdown",
   "metadata": {},
   "source": [
    "In some cases, we do have distributional milestones.  Suppose we had five age buckets:\n",
    "\n",
    "`< 20, 20-40, 40-60, 60-80, 80+`\n",
    "\n",
    "Let us generate two age distributions from different data generating processes: normal and uniform.  We want these age distributions to have a couple key properties.  First, all ages must be non-zero.  Second, we are going to cap ages at 100.  To achieve this, we will employ a normalization scheme, which differs across distributions.  For the normal distribution, we can have negative numbers in a random draw, so the negation of the minimum value will serve as an offset to ensure positive reals.  Second, the figures will be divided by the realized range (maximum less minimum value) and multiplied by 100.  In the uniform distribution, we are already guaranteed positive reals, so the first operation is not required."
   ]
  },
  {
   "cell_type": "code",
   "execution_count": 22,
   "metadata": {
    "collapsed": false
   },
   "outputs": [
    {
     "data": {
      "image/png": "[encoded data removed]",
      "text/plain": [
       "<matplotlib.figure.Figure at 0x7fbec729a950>"
      ]
     },
     "metadata": {},
     "output_type": "display_data"
    }
   ],
   "source": [
    "def pop_gen(pop1,pop2):\n",
    "    #Generate to random age distributions\n",
    "    npop=np.random.normal(size=10000)\n",
    "    upop=np.random.uniform(size=10000)\n",
    "\n",
    "    #Scale the normal ages to be non-positive and range from 0 to 100\n",
    "    ##Non-negative offset\n",
    "    npop_min=npop.min()\n",
    "    npop=npop-npop_min\n",
    "    ##Normalization to [0,1]\n",
    "    npop/=npop.max()\n",
    "    ##Scale to 100\n",
    "    npop*=100\n",
    "\n",
    "    #Scale the lognormal ages to range from 0 to 100\n",
    "    ##Scale to 100\n",
    "    upop*=100\n",
    "    \n",
    "    return (npop,upop)\n",
    "\n",
    "#Capture populations\n",
    "pops=pop_gen(10000,10000)\n",
    "\n",
    "#Generate plot object\n",
    "fig,ax=plt.subplots(figsize=(12,5))\n",
    "\n",
    "#Plot age distributions\n",
    "sb.distplot(pops[0],ax=ax)\n",
    "sb.distplot(pops[1],ax=ax,color='r')\n",
    "\n",
    "#Fix labels\n",
    "ax.set_title('Comparison of Normal and Uniform Age Distributions',fontsize=18)\n",
    "ax.set_xlabel('Age')\n",
    "ax.set_ylabel('Count');"
   ]
  },
  {
   "cell_type": "markdown",
   "metadata": {},
   "source": [
    "Ok, let's look at these guys in buckets and see if our intuition on the merging procedure is correct.  I was going to show this graphically, but it probably suffices to say that as long as we know the bin thresholds and counts (and the bin thresholds are the same across place/county intersections), we can just add all these together to figure out the composite.  However, we will generally not know the distribution that is specific to the intersection, so we will assume a constant distribution across the county.  \n",
    "\n",
    "What happens if one county holds ten times the population of the other?"
   ]
  },
  {
   "cell_type": "code",
   "execution_count": 23,
   "metadata": {
    "collapsed": false
   },
   "outputs": [
    {
     "data": {
      "image/png": "[encoded data removed]",
      "text/plain": [
       "<matplotlib.figure.Figure at 0x7fbec78c3390>"
      ]
     },
     "metadata": {},
     "output_type": "display_data"
    }
   ],
   "source": [
    "#Capture populations\n",
    "pops=pop_gen(10000,1000)\n",
    "\n",
    "#Generate plot object\n",
    "fig,ax=plt.subplots(figsize=(12,5))\n",
    "\n",
    "#Plot age distributions\n",
    "sb.distplot(pops[0],ax=ax)\n",
    "sb.distplot(pops[1],ax=ax,color='r')\n",
    "\n",
    "#Fix labels\n",
    "ax.set_title('Comparison of Normal and Uniform Age Distributions (Unequal Pop Counts)',fontsize=18)\n",
    "ax.set_xlabel('Age')\n",
    "ax.set_ylabel('Count');"
   ]
  },
  {
   "cell_type": "markdown",
   "metadata": {},
   "source": [
    "The density does not change, so we still follow the regular addition by bin procedure"
   ]
  },
  {
   "cell_type": "markdown",
   "metadata": {},
   "source": [
    "## Spatial Distribution of Splits"
   ]
  },
  {
   "cell_type": "code",
   "execution_count": null,
   "metadata": {
    "collapsed": true
   },
   "outputs": [],
   "source": []
  }
 ],
 "metadata": {
  "kernelspec": {
   "display_name": "Python 2",
   "language": "python",
   "name": "python2"
  },
  "language_info": {
   "codemirror_mode": {
    "name": "ipython",
    "version": 2
   },
   "file_extension": ".py",
   "mimetype": "text/x-python",
   "name": "python",
   "nbconvert_exporter": "python",
   "pygments_lexer": "ipython2",
   "version": "2.7.10"
  }
 },
 "nbformat": 4,
 "nbformat_minor": 0
}
