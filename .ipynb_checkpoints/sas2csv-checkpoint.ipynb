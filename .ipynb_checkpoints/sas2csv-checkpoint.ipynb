{
 "cells": [
  {
   "cell_type": "markdown",
   "metadata": {},
   "source": [
    "# Converting SAS to CSV"
   ]
  },
  {
   "cell_type": "markdown",
   "metadata": {},
   "source": [
    "This is a quick notebook to conver the SAS data files that hold the TEL data to CSV.  Once this occurs, we can merge these data with the Reuter's debt data."
   ]
  },
  {
   "cell_type": "code",
   "execution_count": 3,
   "metadata": {
    "collapsed": false
   },
   "outputs": [],
   "source": [
    "import numpy as np\n",
    "import pandas as pd\n",
    "from pandas import Series, DataFrame\n",
    "from sas7bdat import SAS7BDAT"
   ]
  },
  {
   "cell_type": "markdown",
   "metadata": {},
   "source": [
    "Let's take a look at the files..."
   ]
  },
  {
   "cell_type": "code",
   "execution_count": null,
   "metadata": {
    "collapsed": false
   },
   "outputs": [
    {
     "data": {
      "text/plain": [
       "['../debt_data/co_pums11.sas7bdat',\n",
       " '../debt_data/costat12.sas7bdat',\n",
       " '../debt_data/tel_cl_jm.sas7bdat']"
      ]
     },
     "execution_count": 4,
     "metadata": {},
     "output_type": "execute_result"
    }
   ],
   "source": [
    "files=!ls ../debt_data/*.sas7bdat\n",
    "files"
   ]
  },
  {
   "cell_type": "markdown",
   "metadata": {},
   "source": [
    "Supposedly we can read them right into pandas DFs."
   ]
  },
  {
   "cell_type": "code",
   "execution_count": null,
   "metadata": {
    "collapsed": false
   },
   "outputs": [
    {
     "name": "stderr",
     "output_type": "stream",
     "text": [
      "[costat12.sas7bdat] column count mismatch\n",
      "WARNING:../debt_data/costat12.sas7bdat:column count mismatch\n"
     ]
    }
   ],
   "source": [
    "#Create container for each set\n",
    "df_list=[]\n",
    "\n",
    "#For each file...\n",
    "for file_in in files:\n",
    "    #...create a sas7bdat object...\n",
    "    with SAS7BDAT(file_in) as f:\n",
    "        #...and throw a DF version in df_list\n",
    "        df_list.append(f.to_data_frame())"
   ]
  },
  {
   "cell_type": "markdown",
   "metadata": {},
   "source": [
    "Just what is contained in these guys?"
   ]
  },
  {
   "cell_type": "code",
   "execution_count": null,
   "metadata": {
    "collapsed": false
   },
   "outputs": [],
   "source": [
    "for df in df_list:\n",
    "    print df.info()"
   ]
  },
  {
   "cell_type": "markdown",
   "metadata": {},
   "source": [
    "From Dan's text, it sounds like we want the first DF (which contains selected variables from COStats and PUMS sets) and the third (which contains TEL-related variables).  Do all of these DFs have year and county variables?"
   ]
  },
  {
   "cell_type": "code",
   "execution_count": null,
   "metadata": {
    "collapsed": false
   },
   "outputs": [],
   "source": [
    "for i,df in enumerate(df_list):\n",
    "    print i,'|','YEAR' in df.columns\n",
    "    print i,'|','STCOU' in df.columns"
   ]
  },
  {
   "cell_type": "markdown",
   "metadata": {},
   "source": [
    "It would appear only the first does.  Can the third be effectively merged on FIPS codes?"
   ]
  },
  {
   "cell_type": "code",
   "execution_count": null,
   "metadata": {
    "collapsed": false
   },
   "outputs": [],
   "source": [
    "print df_list[2][[var for var in df_list[2].columns if 'fips' in var.lower()]+['YEAR']].head()\n",
    "print df_list[2][[var for var in df_list[2].columns if 'fips' in var.lower()]+['YEAR']].tail()"
   ]
  },
  {
   "cell_type": "markdown",
   "metadata": {},
   "source": [
    "FIPS codes are available in the third set.  How are they formatted in the first?"
   ]
  },
  {
   "cell_type": "code",
   "execution_count": null,
   "metadata": {
    "collapsed": false
   },
   "outputs": [],
   "source": [
    "print df_list[0][['YEAR','STCOU']].head()"
   ]
  },
  {
   "cell_type": "markdown",
   "metadata": {},
   "source": [
    "We can define a new variable in the third set that captures the zero padded versions of `FIPSST` and `FIPSCO` in one variable called `STCOU`."
   ]
  },
  {
   "cell_type": "code",
   "execution_count": null,
   "metadata": {
    "collapsed": false
   },
   "outputs": [],
   "source": [
    "#Define consolidated FIPS variable\n",
    "df_list[2]['STCOU']=df_list[2]['FIPSST'].apply(lambda x: str(int(x)).zfill(2))+\\\n",
    "                    df_list[2]['FIPSCO'].apply(lambda x: str(int(x)).zfill(3))\n",
    "\n",
    "print df_list[2][[var for var in df_list[2].columns if 'fips' in var.lower()]+['YEAR','STCOU']].head()\n",
    "print df_list[2][[var for var in df_list[2].columns if 'fips' in var.lower()]+['YEAR','STCOU']].tail()"
   ]
  },
  {
   "cell_type": "markdown",
   "metadata": {},
   "source": [
    "We want to join the third set to the first."
   ]
  },
  {
   "cell_type": "code",
   "execution_count": null,
   "metadata": {
    "collapsed": false
   },
   "outputs": [],
   "source": [
    "#Capture sets\n",
    "first=df_list[0].set_index(['YEAR','STCOU'])\n",
    "third=df_list[2].set_index(['YEAR','STCOU'])\n",
    "\n",
    "#Sort indices\n",
    "first.sortlevel(0,inplace=True)\n",
    "third.sortlevel(0,inplace=True)\n",
    "\n",
    "#Join sets together\n",
    "data=first.join(third,rsuffix='_TEL')\n",
    "\n",
    "data.head().T"
   ]
  },
  {
   "cell_type": "code",
   "execution_count": null,
   "metadata": {
    "collapsed": false
   },
   "outputs": [],
   "source": [
    "len(data.columns)\n",
    "print sorted(data.columns)"
   ]
  }
 ],
 "metadata": {
  "kernelspec": {
   "display_name": "Python 2",
   "language": "python",
   "name": "python2"
  },
  "language_info": {
   "codemirror_mode": {
    "name": "ipython",
    "version": 2
   },
   "file_extension": ".py",
   "mimetype": "text/x-python",
   "name": "python",
   "nbconvert_exporter": "python",
   "pygments_lexer": "ipython2",
   "version": "2.7.10"
  }
 },
 "nbformat": 4,
 "nbformat_minor": 0
}
