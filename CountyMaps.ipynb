{
 "cells": [
  {
   "cell_type": "markdown",
   "metadata": {},
   "source": [
    "# Mapping County Data"
   ]
  },
  {
   "cell_type": "markdown",
   "metadata": {},
   "source": [
    "We are currently working on a research project that requires the analysis of data aggregated to the county level.  Spatial distributions are, as always, a concern of mine.  Since we do not yet have the data, I might as well take a bit to develop some tools that will make it easier to generate publication quality maps with [matplotlib](https://www.google.com/webhp?sourceid=chrome-instant&ion=1&espv=2&ie=UTF-8&client=ubuntu#q=matplotlib).  The basis for this tool set will be a [Notebook](https://github.com/choct155/MiscProj/blob/master/MapLayering.ipynb) from previous work on the neighborhoods in DC."
   ]
  },
  {
   "cell_type": "code",
   "execution_count": 1,
   "metadata": {
    "collapsed": true
   },
   "outputs": [],
   "source": [
    "#Basic Data Manipulation\n",
    "import numpy as np\n",
    "\n",
    "#Spatial I/O\n",
    "import fiona\n",
    "\n",
    "#Spatial Geometry Manipulation\n",
    "from shapely.geometry import shape,LineString,Polygon,MultiPolygon\n",
    "from shapely.ops import unary_union\n",
    "from descartes import PolygonPatch\n",
    "from rtree import index\n",
    "\n",
    "#Visualization\n",
    "from matplotlib.collections import PatchCollection\n",
    "from mpltools import color"
   ]
  },
  {
   "cell_type": "markdown",
   "metadata": {},
   "source": [
    "## Acquisition of County Boundaries"
   ]
  },
  {
   "cell_type": "markdown",
   "metadata": {},
   "source": [
    "The first step is to capture the shapefile in question, so that we may explore the components we will leverage in generating our mapping object.  We can pull this file directly from the Census website."
   ]
  },
  {
   "cell_type": "code",
   "execution_count": 2,
   "metadata": {
    "collapsed": false
   },
   "outputs": [
    {
     "name": "stdout",
     "output_type": "stream",
     "text": [
      "--2015-10-20 18:19:06--  ftp://ftp2.census.gov/geo/tiger/TIGER2015/COUNTY/tl_2015_us_county.zip\n",
      "           => ‘tl_2015_us_county.zip’\n",
      "Resolving ftp2.census.gov (ftp2.census.gov)... 148.129.75.35, 2610:20:2010:a09:1000:0:9481:4b23\n",
      "Connecting to ftp2.census.gov (ftp2.census.gov)|148.129.75.35|:21... connected.\n",
      "Logging in as anonymous ... Logged in!\n",
      "==> SYST ... done.    ==> PWD ... done.\n",
      "==> TYPE I ... done.  ==> CWD (1) /geo/tiger/TIGER2015/COUNTY ... done.\n",
      "==> SIZE tl_2015_us_county.zip ... 73995415\n",
      "==> PASV ... done.    ==> RETR tl_2015_us_county.zip ... done.\n",
      "Length: 73995415 (71M) (unauthoritative)\n",
      "\n",
      "tl_2015_us_county.z 100%[=====================>]  70.57M   506KB/s   in 2m 25s \n",
      "\n",
      "2015-10-20 18:21:30 (500 KB/s) - ‘tl_2015_us_county.zip’ saved [73995415]\n",
      "\n",
      "Archive:  tl_2015_us_county.zip\n",
      " extracting: tl_2015_us_county.cpg   \n",
      "  inflating: tl_2015_us_county.dbf   \n",
      "  inflating: tl_2015_us_county.prj   \n",
      "  inflating: tl_2015_us_county.shp   \n",
      "  inflating: tl_2015_us_county.shp.ea.iso.xml  \n",
      "  inflating: tl_2015_us_county.shp.iso.xml  \n",
      "  inflating: tl_2015_us_county.shp.xml  \n",
      "  inflating: tl_2015_us_county.shx   \n",
      "tl_2015_us_county.cpg\t\t  tl_2015_us_county.shp.iso.xml\n",
      "tl_2015_us_county.dbf\t\t  tl_2015_us_county.shp.xml\n",
      "tl_2015_us_county.prj\t\t  tl_2015_us_county.shx\n",
      "tl_2015_us_county.shp\t\t  tl_2015_us_county.zip\n",
      "tl_2015_us_county.shp.ea.iso.xml\n"
     ]
    }
   ],
   "source": [
    "!wget ftp://ftp2.census.gov/geo/tiger/TIGER2015/COUNTY/tl_2015_us_county.zip\n",
    "!sudo unzip tl_2015_us_county.zip\n",
    "!sudo mv ./tl* ./shp\n",
    "!ls shp/"
   ]
  },
  {
   "cell_type": "code",
   "execution_count": 3,
   "metadata": {
    "collapsed": false
   },
   "outputs": [
    {
     "name": "stdout",
     "output_type": "stream",
     "text": [
      "tl_2015_us_county.cpg\t\t  tl_2015_us_county.shp.iso.xml\r\n",
      "tl_2015_us_county.dbf\t\t  tl_2015_us_county.shp.xml\r\n",
      "tl_2015_us_county.prj\t\t  tl_2015_us_county.shx\r\n",
      "tl_2015_us_county.shp\t\t  tl_2015_us_county.zip\r\n",
      "tl_2015_us_county.shp.ea.iso.xml\r\n"
     ]
    }
   ],
   "source": [
    "!ls shp/"
   ]
  }
 ],
 "metadata": {
  "kernelspec": {
   "display_name": "Python 2",
   "language": "python",
   "name": "python2"
  },
  "language_info": {
   "codemirror_mode": {
    "name": "ipython",
    "version": 2
   },
   "file_extension": ".py",
   "mimetype": "text/x-python",
   "name": "python",
   "nbconvert_exporter": "python",
   "pygments_lexer": "ipython2",
   "version": "2.7.10"
  }
 },
 "nbformat": 4,
 "nbformat_minor": 0
}
