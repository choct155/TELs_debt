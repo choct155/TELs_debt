{
 "cells": [
  {
   "cell_type": "markdown",
   "metadata": {},
   "source": [
    "## Analyzing the Impact of TELs on Debt Issues"
   ]
  },
  {
   "cell_type": "markdown",
   "metadata": {},
   "source": [
    "This Notebook uses the data constructed in [sas2csv](https://github.com/choct155/TELs_debt/blob/master/code/sas2csv.ipynb) and [DebtDataSeries](https://github.com/choct155/TELs_debt/blob/master/code/DebtDataSeries.ipynb) to evaluate the impact of tax and expenditure limitations on debt issues by county.  This Notebook will do the following:\n",
    "\n",
    "1. Subset to the variables critical to our analysis (**Data Input**);\n",
    "2. Build specifications that feature a set of debt related dependent variables (**Model Design**);\n",
    "3. Estimate the relationship between TELs and debt by way of pooled and fixed effect models (**Estimation**)."
   ]
  },
  {
   "cell_type": "code",
   "execution_count": 1,
   "metadata": {
    "collapsed": false
   },
   "outputs": [
    {
     "name": "stdout",
     "output_type": "stream",
     "text": [
      "Populating the interactive namespace from numpy and matplotlib\n"
     ]
    }
   ],
   "source": [
    "import numpy as np\n",
    "import pandas as pd\n",
    "from pandas import Series, DataFrame\n",
    "import seaborn as sb\n",
    "import statsmodels.api as sm\n",
    "import statsmodels.formula.api as smf\n",
    "\n",
    "%pylab inline"
   ]
  },
  {
   "cell_type": "markdown",
   "metadata": {},
   "source": [
    "## Data Input"
   ]
  },
  {
   "cell_type": "markdown",
   "metadata": {},
   "source": [
    "Our data is housed in ... the **`data/`** directory.  We are looking for `debt_out.csv` which has aggregate debt issue, institutional, socioeconomic, and spatial information aggregated to the county level."
   ]
  },
  {
   "cell_type": "code",
   "execution_count": 3,
   "metadata": {
    "collapsed": false
   },
   "outputs": [
    {
     "name": "stdout",
     "output_type": "stream",
     "text": [
      "total 152104\r\n",
      "-rw-r--r-- 1 root root   165888 Nov 10 17:20 13slsstab1a.xls\r\n",
      "-rw-r--r-- 1 root root    93112 Nov 10 17:20 2013_GFS_debt.xcf\r\n",
      "-rw-r--r-- 1 root root 12226235 Nov 10 17:20 bonds.csv\r\n",
      "-rwxr-xr-x 1 root root  1730054 Nov 11 10:44 cty_coverage.csv\r\n",
      "-rw-r--r-- 1 root root        0 Nov 10 17:20 current_issue_geocode_list.csv\r\n",
      "-rwxr-xr-x 1 root root 25615061 Nov 11 10:44 debt_out.csv\r\n",
      "-rw-r--r-- 1 root root 47620501 Nov 10 17:20 debt_ts_pre_fips.csv\r\n",
      "-rw-r--r-- 1 root root 49023971 Nov 10 17:20 debt_w_fips.csv\r\n",
      "-rw-r--r-- 1 root root   104148 Nov 10 17:20 fips_st_co_02_07.csv\r\n",
      "-rw-r--r-- 1 root root     7578 Nov 10 17:20 g_api_college.csv\r\n",
      "-rw-r--r-- 1 root root   103193 Nov 10 17:20 g_api_rando.csv\r\n",
      "-rw-r--r-- 1 root root  2874978 Nov 10 17:20 geocorr12.csv\r\n",
      "-rw-r--r-- 1 root root    51068 Nov 11 10:43 state_coverage.csv\r\n",
      "-rwxr-xr-x 1 root root 16116782 Nov 11 10:40 tel_data.csv\r\n"
     ]
    }
   ],
   "source": [
    "!ls -l ../data/"
   ]
  },
  {
   "cell_type": "markdown",
   "metadata": {},
   "source": [
    "Let's go ahead and read in the data."
   ]
  },
  {
   "cell_type": "code",
   "execution_count": 7,
   "metadata": {
    "collapsed": false
   },
   "outputs": [
    {
     "name": "stdout",
     "output_type": "stream",
     "text": [
      "['ASMT_L', 'ASMT_L2', 'ASMT_L3', 'BOTH', 'CB_E', 'CB_E2', 'CB_E3', 'CB_E4', 'CB_G', 'CB_G2', 'CFDISC_L', 'CGEXP_L', 'CH_HS_UNT', 'CLEVY_L', 'CLEVY_L2', 'CLEVY_L3', 'CLEVY_L4', 'CRATE_L', 'CRATE_L2', 'CREVU_L', 'D_GEN_EXP', 'FFDISC_L', 'FIPS', 'FIPSCO', 'FIPSST', 'FIPST_N', 'GEN_REV', 'GEXP_L', 'GO', 'GO_City, Town Vlg', 'GO_Co-op Utility', 'GO_College or Univ', 'GO_County/Parish', 'GO_Development', 'GO_Direct Issuer', 'GO_District', 'GO_Education', 'GO_Electric Power', 'GO_Environmental Facilities', 'GO_General Purpose', 'GO_Healthcare', 'GO_Housing', 'GO_Indian Tribe', 'GO_Local Authority', 'GO_Public Facilities', 'GO_State Authority', 'GO_State/Province', 'GO_Transportation', 'GO_Utilities', 'GP_GEXP', 'GP_LEVY', 'GP_LMT', 'GP_RATE', 'GP_REVU', 'HOME_STEAD', 'HOME_STEAD2', 'HOME_STEAD3', 'HSG_UNITS', 'HSLD_PERS', 'IGR_ST', 'LANDAREA', 'LEVY_L', 'LIMITS', 'MDHOMEVAL', 'MED_INC', 'MFDISC_L', 'MFG_EMP', 'MGEXP_L', 'MGEXP_L2', 'MLEVY_L', 'MLEVY_L2', 'MLEVY_L3', 'MLEVY_L4', 'MRATE_L', 'MRATE_L2', 'MREVU_L', 'PC_GEN_EXP', 'PC_INC', 'PERS_POVT', 'POP_OV65', 'POP_TH18', 'POVT_PCT', 'PRE_1940', 'PT_REV', 'PUB_SCHL', 'PVT_SCHL', 'RATE_L', 'RATE_L2', 'RES_POP', 'RETL_EMP', 'REVU_L', 'RV', 'RV_City, Town Vlg', 'RV_Co-op Utility', 'RV_College or Univ', 'RV_County/Parish', 'RV_Development', 'RV_Direct Issuer', 'RV_District', 'RV_Education', 'RV_Electric Power', 'RV_Environmental Facilities', 'RV_General Purpose', 'RV_Healthcare', 'RV_Housing', 'RV_Indian Tribe', 'RV_Local Authority', 'RV_Public Facilities', 'RV_State Authority', 'RV_State/Province', 'RV_Transportation', 'RV_Utilities', 'SC_LMT', 'SFDISC_L', 'SGEXP_L', 'SGEXP_L2', 'SLEVY_L', 'SLEVY_L2', 'SLEVY_L3', 'SLEVY_L4', 'SPC_RATE', 'SRATE_L', 'SRATE_L2', 'SREVU_L', 'SS_PERS', 'SS_PMT', 'ST_IGR_ST', 'ST_L_EXP', 'ST_L_GREV', 'ST_L_TAX', 'ST_MED_H_V', 'ST_MED_INC', 'ST_PC_INC', 'ST_PT_REV', 'ST_P_LEXP', 'TAX_REV', 'TOT_EMP', 'TREND', 'TYPE1', 'TYPE2', 'TYPE2_Y', 'T_PUB_SCH', 'VACANT', 'Year'] \n",
      "\n",
      "<class 'pandas.core.frame.DataFrame'>\n",
      "Int64Index: 61291 entries, 0 to 61290\n",
      "Columns: 144 entries, Year to TREND\n",
      "dtypes: float64(142), int64(2)\n",
      "memory usage: 67.8 MB\n",
      "None\n"
     ]
    }
   ],
   "source": [
    "data_in=pd.read_csv('../data/debt_out.csv')\n",
    "\n",
    "print sorted(data_in.columns),'\\n\\n',data_in.info()"
   ]
  },
  {
   "cell_type": "markdown",
   "metadata": {},
   "source": [
    "The set of variables in play appear in the table below:\n",
    "\n",
    "**DEPENDENT VARIABLES**\n",
    "\n",
    "Concept|Input Variables\n",
    "-------|---------------\n",
    "Per capita GO debt issued|*Variables beginning with GO* & `RES_POP`\n",
    "Per capita revenue debt issued|*Variables beginning with RV* & `RES_POP`\n",
    "Ratio of GO to revenue debt issued|*Variables beginning with GO or RV*\n",
    "\n",
    "**INSTITUTIONAL VARIABLES**\n",
    "\n",
    "Concept|Input Variables\n",
    "-------|---------------\n",
    "Any TEL|`LIMITS`\n",
    "Non-binding TEL|`TYPE1`\n",
    "Potentially binding TEL|`TYPE2`\n",
    "Both `TYPE1` & `TYPE2`|`BOTH`\n",
    "Years since `TYPE2` enacted|`TYPE2_y`\n",
    "Overall property tax rate limit|`RATE_L`\n",
    "Overall assessment limit|`SC_LMT`\n",
    "Limit applied to general purpose gov|`GP_LMT`\n",
    "Limit applied to school district|`SC_LMT`\n",
    "\n",
    "*Note that all limits above can be interacted with primary county status (`PRIMARY`; see spatial table below), in which case we append an `i` to the variable name.*\n",
    "\n",
    "**SCALE & SUPPLY MEASURES**\n",
    "\n",
    "Concept|Input Variables\n",
    "-------|---------------\n",
    "Population|`RES_POP`\n",
    "<span style=\"color:red\">Population$^2$</span>|`RES_POP2`\n",
    "Population density|`DENSITY`\n",
    "Population growth rate|`POPGROW`\n",
    "Household size|`PERS_HLD`\n",
    "Pre-1940 housing stock|`PRE1940`\n",
    "\n",
    "**DEMAND MEASURES**\n",
    "\n",
    "Concept|Input Variables\n",
    "-------|---------------\n",
    "Population under 17|`PYOUNG`\n",
    "Private school enrollment|`PVT_SCH`\n",
    "Population over 65|`POP65`\n",
    "Per capita income|`PCINC`\n",
    "Povery rate|`POVERTY`\n",
    "Average monthly Social Security payments (to recipients)|`PC_SSI`\n",
    "Per capita income weighted by poverty rate|`DIVERSITY`\n",
    "\n",
    "**ECONOMIC ACTIVITY**\n",
    "\n",
    "Concept|Input Variables\n",
    "-------|---------------\n",
    "Employment to population ratio|`EMP_RESI`\n",
    "Manufacturing employment to population ratio|`MANU_RES`\n",
    "Retail employment to population ratio|`RETL_RES`\n",
    "Service employment to population ratio|`SERV_RES`\n",
    "\n",
    "**SPATIAL CHARACTERISTICS**\n",
    "\n",
    "Concept|Input Variables\n",
    "-------|---------------\n",
    "Primary central county in 1974|`PRIMARY`\n",
    "Co-central county in 1974|`CO_PRIM`\n",
    "Urban fringe county in 1974|`FRINGE`\n",
    "\n",
    "Let's grab these in category lists to make them more accessible."
   ]
  },
  {
   "cell_type": "code",
   "execution_count": 24,
   "metadata": {
    "collapsed": false
   },
   "outputs": [
    {
     "name": "stdout",
     "output_type": "stream",
     "text": [
      "Is TYPE2_y in the data set??  Maaaan, we ain't found shit!\n",
      "Is DENSITY in the data set??  Maaaan, we ain't found shit!\n",
      "Is POPGROW in the data set??  Maaaan, we ain't found shit!\n",
      "Is PERS_HLD in the data set??  Maaaan, we ain't found shit!\n",
      "Is PRE1940 in the data set??  Maaaan, we ain't found shit!\n",
      "Is PYOUNG in the data set??  Maaaan, we ain't found shit!\n",
      "Is PVT_SCH in the data set??  Maaaan, we ain't found shit!\n",
      "Is POP65 in the data set??  Maaaan, we ain't found shit!\n",
      "Is PCINC in the data set??  Maaaan, we ain't found shit!\n",
      "Is POVERTY in the data set??  Maaaan, we ain't found shit!\n",
      "Is PC_SSI in the data set??  Maaaan, we ain't found shit!\n",
      "Is DIVERSITY in the data set??  Maaaan, we ain't found shit!\n",
      "Is EMP_RESI in the data set??  Maaaan, we ain't found shit!\n",
      "Is MANU_RES in the data set??  Maaaan, we ain't found shit!\n",
      "Is RETL_RES in the data set??  Maaaan, we ain't found shit!\n",
      "Is SERV_RES in the data set??  Maaaan, we ain't found shit!\n",
      "Is PRIMARY in the data set??  Maaaan, we ain't found shit!\n",
      "Is CO_PRIM in the data set??  Maaaan, we ain't found shit!\n",
      "Is FRINGE in the data set??  Maaaan, we ain't found shit!\n"
     ]
    }
   ],
   "source": [
    "#Capture issuer suffixes\n",
    "issuers=['City, Town Vlg','Co-op Utility','College or Univ','County/Parish','Direct Issuer','District',\\\n",
    "         'Indian Tribe','Local Authority','State Authority','State/Province']\n",
    "purposes=['Development','Education','Electric Power','Environmental Facilities','General Purpose','Healthcare',\\\n",
    "          'Housing','Public Facilities','Transportation','Utilities']\n",
    "\n",
    "#Capture dependent variables\n",
    "debt_vars=['GO','RV']\n",
    "go_vars={'iss':['GO_'+var for var in issuers],\n",
    "         'pur':['GO_'+var for var in purposes]}\n",
    "rv_vars={'iss':['RV_'+var for var in issuers],\n",
    "         'pur':['RV_'+var for var in purposes]}\n",
    "\n",
    "#Capture independnet vars\n",
    "tel_vars={'types':['TYPE1','TYPE2','TYPE2_y'],\n",
    "          'either':['LIMITS','BOTH'],\n",
    "          'hi_res':['RATE_L','ASMT_L','GP_LMT','SC_LMT']}\n",
    "supply_vars=['RES_POP','DENSITY','POPGROW','PERS_HLD','PRE1940']\n",
    "demand_vars=['PYOUNG','PVT_SCH','POP65','PCINC','POVERTY','PC_SSI','DIVERSITY']\n",
    "economic_vars=['EMP_RESI','MANU_RES','RETL_RES','SERV_RES']\n",
    "spatial_vars=['PRIMARY','CO_PRIM','FRINGE']\n",
    "\n",
    "#Capture all modeling variables in a single list\n",
    "mod_vars=debt_vars+go_vars['iss']+go_vars['pur']+rv_vars['iss']+rv_vars['pur']+tel_vars['types']+\\\n",
    "         tel_vars['either']+tel_vars['hi_res']+supply_vars+demand_vars+economic_vars+spatial_vars\n",
    "    \n",
    "#For each model variable...\n",
    "for var in mod_vars:\n",
    "    #...tell me if it's not in the set\n",
    "    if var not in data_in.columns:\n",
    "        print \"Is \"+var+\" in the data set??  Maaaan, we ain't found shit!\""
   ]
  },
  {
   "cell_type": "markdown",
   "metadata": {},
   "source": [
    "Huh?  Are there more variables in the Mikesell set?  (Test is taken from Mikesell's data as written in [sas2csv](https://github.com/choct155/TELs_debt/blob/master/code/sas2csv.ipynb))."
   ]
  },
  {
   "cell_type": "code",
   "execution_count": 25,
   "metadata": {
    "collapsed": false
   },
   "outputs": [],
   "source": [
    "test=[u'ACQ_ValAss', u'ASMT_L', u'ASMT_L2', u'ASMT_L3', u'Area', u'BOTH', u'BURDEN05', u'BURDEN06', u'BURDEN99', \\\n",
    "      u'CB', u'CB_E', u'CB_E2', u'CB_E3', u'CB_E4', u'CB_G', u'CB_G2', u'CB_share', u'CFDISC_L', u'CGEXP_L', \\\n",
    "      u'CLEVY_L', u'CLEVY_L2', u'CLEVY_L3', u'CLEVY_L4', u'CRATE_L', u'CRATE_L2', u'CREVU_L', u'CV_99BURDEN', \\\n",
    "      u'County', u'Def', u'Density', u'Dillon_all', u'EAST', u'EDU_MAND', u'EmptoResPop', u'FFDISC_L', u'FIPSCO', \\\n",
    "      u'FIPSST', u'GEXP_L', u'GL', u'GP_GEXP', u'GP_LEVY', u'GP_LMT', u'GP_RATE', u'GP_REVU', u'GST', \\\n",
    "      u'HOME_STEAD', u'HOME_STEAD2', u'HOME_STEAD3', u'IGR', u'IIT', u'LEVY_L', u'LIMITS', u'LIT', u'LST', u'ME', \\\n",
    "      u'MFDISC_L', u'MGEXP_L', u'MGEXP_L2', u'MIDDLE', u'MLEVY_L', u'MLEVY_L2', u'MLEVY_L3', u'MLEVY_L4', \\\n",
    "      u'MRATE_L', u'MRATE_L2', u'MREVU_L', u'M_H_INC05', u'M_H_INC06', u'M_H_INC99', u'M_P_TAX05', u'M_P_TAX06', \\\n",
    "      u'M_P_TAX99', u'M_VOOH05', u'M_V_OOH06', u'M_V_OOH99', u'MfgEmpto_TotEmp', u'NAME', u'NE', u'N_COUNTIES', \\\n",
    "      u'P65__05', u'PC_SCHENROL', u'PL', u'Pop_05', u'Popgrow2000_05', u'RATE05', u'RATE06', u'RATE99', u'RATE_L', \\\n",
    "      u'RATE_L2', u'REVU_L', u'RM', u'Rate_ch_05_06', u'RetWhoEmptoTotEmp', u'SCHENROL_2000', u'SC_LMT', u'SE', \\\n",
    "      u'SFDISC_L', u'SGEXP_L', u'SGEXP_L2', u'SLEVY_L', u'SLEVY_L2', u'SLEVY_L3', u'SLEVY_L4', u'SOUTH', u'SOUTH_1', \\\n",
    "      u'SPC_RATE', u'SPT', u'SRATE_L', u'SRATE_L2', u'SREVU_L', u'SUMLEV', u'SW', u'State', u'TREND', u'TYPE1', \\\n",
    "      u'TYPE2', u'TYPE2_Y', u'TnT', u'Tot_Emp', u'UC_1M', u'UC_UH150', u'UH150_UH70', u'UH300_UH150', u'UH300_UH70', \\\n",
    "      u'UH_150K', u'UH_300K', u'UH_70K', u'UI_1M', u'UI_25M', u'UI_UH150', u'VAM', u'VAM_POP', u'VAmanuf_2002', \\\n",
    "      u'Y2006', u'Y20061', u'YEAR', u'_11Forest_Fish', u'_21Mining', u'_22Utilities', u'_23Construction', u'_31Manuf', \\\n",
    "      u'_42Wholesale', u'_44Retail', u'_48Trans_Wharehouse', u'_51Information', u'_52Fin_Insurance', u'_53RealEstate', \\\n",
    "      u'_54_Prof_Sci_Tec', u'_55Managment', u'_56Adm_Support_Waste', u'_61Education', u'_62Health_Social', \\\n",
    "      u'_71Arts_Rec', u'_72Hotel_Food', u'_81OtherServices', u'_99Unclassified']"
   ]
  },
  {
   "cell_type": "code",
   "execution_count": 26,
   "metadata": {
    "collapsed": false
   },
   "outputs": [
    {
     "name": "stdout",
     "output_type": "stream",
     "text": [
      "Is GO in the data set??  Maaaan, we ain't found shit!\n",
      "Is RV in the data set??  Maaaan, we ain't found shit!\n",
      "Is GO_City, Town Vlg in the data set??  Maaaan, we ain't found shit!\n",
      "Is GO_Co-op Utility in the data set??  Maaaan, we ain't found shit!\n",
      "Is GO_College or Univ in the data set??  Maaaan, we ain't found shit!\n",
      "Is GO_County/Parish in the data set??  Maaaan, we ain't found shit!\n",
      "Is GO_Direct Issuer in the data set??  Maaaan, we ain't found shit!\n",
      "Is GO_District in the data set??  Maaaan, we ain't found shit!\n",
      "Is GO_Indian Tribe in the data set??  Maaaan, we ain't found shit!\n",
      "Is GO_Local Authority in the data set??  Maaaan, we ain't found shit!\n",
      "Is GO_State Authority in the data set??  Maaaan, we ain't found shit!\n",
      "Is GO_State/Province in the data set??  Maaaan, we ain't found shit!\n",
      "Is GO_Development in the data set??  Maaaan, we ain't found shit!\n",
      "Is GO_Education in the data set??  Maaaan, we ain't found shit!\n",
      "Is GO_Electric Power in the data set??  Maaaan, we ain't found shit!\n",
      "Is GO_Environmental Facilities in the data set??  Maaaan, we ain't found shit!\n",
      "Is GO_General Purpose in the data set??  Maaaan, we ain't found shit!\n",
      "Is GO_Healthcare in the data set??  Maaaan, we ain't found shit!\n",
      "Is GO_Housing in the data set??  Maaaan, we ain't found shit!\n",
      "Is GO_Public Facilities in the data set??  Maaaan, we ain't found shit!\n",
      "Is GO_Transportation in the data set??  Maaaan, we ain't found shit!\n",
      "Is GO_Utilities in the data set??  Maaaan, we ain't found shit!\n",
      "Is RV_City, Town Vlg in the data set??  Maaaan, we ain't found shit!\n",
      "Is RV_Co-op Utility in the data set??  Maaaan, we ain't found shit!\n",
      "Is RV_College or Univ in the data set??  Maaaan, we ain't found shit!\n",
      "Is RV_County/Parish in the data set??  Maaaan, we ain't found shit!\n",
      "Is RV_Direct Issuer in the data set??  Maaaan, we ain't found shit!\n",
      "Is RV_District in the data set??  Maaaan, we ain't found shit!\n",
      "Is RV_Indian Tribe in the data set??  Maaaan, we ain't found shit!\n",
      "Is RV_Local Authority in the data set??  Maaaan, we ain't found shit!\n",
      "Is RV_State Authority in the data set??  Maaaan, we ain't found shit!\n",
      "Is RV_State/Province in the data set??  Maaaan, we ain't found shit!\n",
      "Is RV_Development in the data set??  Maaaan, we ain't found shit!\n",
      "Is RV_Education in the data set??  Maaaan, we ain't found shit!\n",
      "Is RV_Electric Power in the data set??  Maaaan, we ain't found shit!\n",
      "Is RV_Environmental Facilities in the data set??  Maaaan, we ain't found shit!\n",
      "Is RV_General Purpose in the data set??  Maaaan, we ain't found shit!\n",
      "Is RV_Healthcare in the data set??  Maaaan, we ain't found shit!\n",
      "Is RV_Housing in the data set??  Maaaan, we ain't found shit!\n",
      "Is RV_Public Facilities in the data set??  Maaaan, we ain't found shit!\n",
      "Is RV_Transportation in the data set??  Maaaan, we ain't found shit!\n",
      "Is RV_Utilities in the data set??  Maaaan, we ain't found shit!\n",
      "Is TYPE2_y in the data set??  Maaaan, we ain't found shit!\n",
      "Is RES_POP in the data set??  Maaaan, we ain't found shit!\n",
      "Is DENSITY in the data set??  Maaaan, we ain't found shit!\n",
      "Is POPGROW in the data set??  Maaaan, we ain't found shit!\n",
      "Is PERS_HLD in the data set??  Maaaan, we ain't found shit!\n",
      "Is PRE1940 in the data set??  Maaaan, we ain't found shit!\n",
      "Is PYOUNG in the data set??  Maaaan, we ain't found shit!\n",
      "Is PVT_SCH in the data set??  Maaaan, we ain't found shit!\n",
      "Is POP65 in the data set??  Maaaan, we ain't found shit!\n",
      "Is PCINC in the data set??  Maaaan, we ain't found shit!\n",
      "Is POVERTY in the data set??  Maaaan, we ain't found shit!\n",
      "Is PC_SSI in the data set??  Maaaan, we ain't found shit!\n",
      "Is DIVERSITY in the data set??  Maaaan, we ain't found shit!\n",
      "Is EMP_RESI in the data set??  Maaaan, we ain't found shit!\n",
      "Is MANU_RES in the data set??  Maaaan, we ain't found shit!\n",
      "Is RETL_RES in the data set??  Maaaan, we ain't found shit!\n",
      "Is SERV_RES in the data set??  Maaaan, we ain't found shit!\n",
      "Is PRIMARY in the data set??  Maaaan, we ain't found shit!\n",
      "Is CO_PRIM in the data set??  Maaaan, we ain't found shit!\n",
      "Is FRINGE in the data set??  Maaaan, we ain't found shit!\n"
     ]
    }
   ],
   "source": [
    "#For each model variable...\n",
    "for var in mod_vars:\n",
    "    #...tell me if it's not in the set\n",
    "    if var not in test:\n",
    "        print \"Is \"+var+\" in the data set??  Maaaan, we ain't found shit!\""
   ]
  },
  {
   "cell_type": "code",
   "execution_count": null,
   "metadata": {
    "collapsed": true
   },
   "outputs": [],
   "source": []
  }
 ],
 "metadata": {
  "kernelspec": {
   "display_name": "Python 2",
   "language": "python",
   "name": "python2"
  },
  "language_info": {
   "codemirror_mode": {
    "name": "ipython",
    "version": 2
   },
   "file_extension": ".py",
   "mimetype": "text/x-python",
   "name": "python",
   "nbconvert_exporter": "python",
   "pygments_lexer": "ipython2",
   "version": "2.7.10"
  }
 },
 "nbformat": 4,
 "nbformat_minor": 0
}
