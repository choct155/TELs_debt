{
 "cells": [
  {
   "cell_type": "code",
   "execution_count": 1,
   "metadata": {
    "collapsed": true
   },
   "outputs": [],
   "source": [
    "import numpy as np\n",
    "import pandas as pd\n",
    "from pandas import Series, DataFrame\n",
    "import glob\n",
    "import requests"
   ]
  },
  {
   "cell_type": "markdown",
   "metadata": {},
   "source": [
    "# Import State and Local Price deflators"
   ]
  },
  {
   "cell_type": "markdown",
   "metadata": {},
   "source": [
    "State and local price deflators were downloaded [here](https://research.stlouisfed.org/fred2/series/A829RD3A086NBEA#)"
   ]
  },
  {
   "cell_type": "code",
   "execution_count": 2,
   "metadata": {
    "collapsed": false
   },
   "outputs": [],
   "source": [
    "defl = pd.read_excel('/Users/chadsmith/Google Drive/TEL Data/debt_data/state_local_deflators.xls', header=10 )"
   ]
  },
  {
   "cell_type": "code",
   "execution_count": 3,
   "metadata": {
    "collapsed": true
   },
   "outputs": [],
   "source": [
    "defl.rename(columns={'A829RD3A086NBEA': 'SLDefl'}, inplace=True)"
   ]
  },
  {
   "cell_type": "code",
   "execution_count": 4,
   "metadata": {
    "collapsed": false
   },
   "outputs": [],
   "source": [
    "defl['observation_date'] = defl.observation_date.astype('str')"
   ]
  },
  {
   "cell_type": "code",
   "execution_count": 5,
   "metadata": {
    "collapsed": false
   },
   "outputs": [],
   "source": [
    "defl['yr']= defl['observation_date'].str[0:4]"
   ]
  },
  {
   "cell_type": "code",
   "execution_count": 6,
   "metadata": {
    "collapsed": false
   },
   "outputs": [],
   "source": [
    "defl.drop('observation_date', inplace=True, axis = 1)"
   ]
  },
  {
   "cell_type": "markdown",
   "metadata": {},
   "source": [
    "Now I need to convert the index into a multiplier. Since 2009 is the base year, we need the value for 2009."
   ]
  },
  {
   "cell_type": "code",
   "execution_count": 7,
   "metadata": {
    "collapsed": false
   },
   "outputs": [
    {
     "data": {
      "text/html": [
       "<div>\n",
       "<table border=\"1\" class=\"dataframe\">\n",
       "  <thead>\n",
       "    <tr style=\"text-align: right;\">\n",
       "      <th></th>\n",
       "      <th>SLDefl</th>\n",
       "      <th>yr</th>\n",
       "    </tr>\n",
       "  </thead>\n",
       "  <tbody>\n",
       "    <tr>\n",
       "      <th>81</th>\n",
       "      <td>102.714</td>\n",
       "      <td>2009</td>\n",
       "    </tr>\n",
       "  </tbody>\n",
       "</table>\n",
       "</div>"
      ],
      "text/plain": [
       "     SLDefl    yr\n",
       "81  102.714  2009"
      ]
     },
     "execution_count": 7,
     "metadata": {},
     "output_type": "execute_result"
    }
   ],
   "source": [
    "defl.loc[defl['yr']=='2009']"
   ]
  },
  {
   "cell_type": "markdown",
   "metadata": {},
   "source": [
    "\n",
    "The formula for the index will be Base/Comparison"
   ]
  },
  {
   "cell_type": "code",
   "execution_count": 8,
   "metadata": {
    "collapsed": true
   },
   "outputs": [],
   "source": [
    "defl['index'] = 102.714/defl['SLDefl']"
   ]
  },
  {
   "cell_type": "code",
   "execution_count": 9,
   "metadata": {
    "collapsed": false
   },
   "outputs": [
    {
     "data": {
      "text/html": [
       "<div>\n",
       "<table border=\"1\" class=\"dataframe\">\n",
       "  <thead>\n",
       "    <tr style=\"text-align: right;\">\n",
       "      <th></th>\n",
       "      <th>SLDefl</th>\n",
       "      <th>yr</th>\n",
       "      <th>index</th>\n",
       "    </tr>\n",
       "  </thead>\n",
       "  <tbody>\n",
       "    <tr>\n",
       "      <th>0</th>\n",
       "      <td>3.968</td>\n",
       "      <td>1929</td>\n",
       "      <td>25.885585</td>\n",
       "    </tr>\n",
       "    <tr>\n",
       "      <th>1</th>\n",
       "      <td>3.862</td>\n",
       "      <td>1930</td>\n",
       "      <td>26.596064</td>\n",
       "    </tr>\n",
       "    <tr>\n",
       "      <th>2</th>\n",
       "      <td>3.632</td>\n",
       "      <td>1931</td>\n",
       "      <td>28.280286</td>\n",
       "    </tr>\n",
       "    <tr>\n",
       "      <th>3</th>\n",
       "      <td>3.258</td>\n",
       "      <td>1932</td>\n",
       "      <td>31.526703</td>\n",
       "    </tr>\n",
       "    <tr>\n",
       "      <th>4</th>\n",
       "      <td>3.372</td>\n",
       "      <td>1933</td>\n",
       "      <td>30.460854</td>\n",
       "    </tr>\n",
       "  </tbody>\n",
       "</table>\n",
       "</div>"
      ],
      "text/plain": [
       "   SLDefl    yr      index\n",
       "0   3.968  1929  25.885585\n",
       "1   3.862  1930  26.596064\n",
       "2   3.632  1931  28.280286\n",
       "3   3.258  1932  31.526703\n",
       "4   3.372  1933  30.460854"
      ]
     },
     "execution_count": 9,
     "metadata": {},
     "output_type": "execute_result"
    }
   ],
   "source": [
    "defl.head()"
   ]
  },
  {
   "cell_type": "markdown",
   "metadata": {},
   "source": [
    "Now I need to import the personal income and population data from [here](http://www.bea.gov/regional/downloadzip.cfm)"
   ]
  },
  {
   "cell_type": "code",
   "execution_count": 10,
   "metadata": {
    "collapsed": true
   },
   "outputs": [],
   "source": [
    "inc = pd.read_csv('/Users/chadsmith/Google Drive/TEL Data/debt_data/SA1_1929_2014.csv')"
   ]
  },
  {
   "cell_type": "code",
   "execution_count": 11,
   "metadata": {
    "collapsed": false
   },
   "outputs": [
    {
     "data": {
      "text/html": [
       "<div>\n",
       "<table border=\"1\" class=\"dataframe\">\n",
       "  <thead>\n",
       "    <tr style=\"text-align: right;\">\n",
       "      <th></th>\n",
       "      <th>GeoFIPS</th>\n",
       "      <th>GeoName</th>\n",
       "      <th>Region</th>\n",
       "      <th>Table</th>\n",
       "      <th>LineCode</th>\n",
       "      <th>IndustryClassification</th>\n",
       "      <th>Description</th>\n",
       "      <th>1929</th>\n",
       "      <th>1930</th>\n",
       "      <th>1931</th>\n",
       "      <th>...</th>\n",
       "      <th>2005</th>\n",
       "      <th>2006</th>\n",
       "      <th>2007</th>\n",
       "      <th>2008</th>\n",
       "      <th>2009</th>\n",
       "      <th>2010</th>\n",
       "      <th>2011</th>\n",
       "      <th>2012</th>\n",
       "      <th>2013</th>\n",
       "      <th>2014</th>\n",
       "    </tr>\n",
       "  </thead>\n",
       "  <tbody>\n",
       "    <tr>\n",
       "      <th>0</th>\n",
       "      <td>0</td>\n",
       "      <td>United States</td>\n",
       "      <td>NaN</td>\n",
       "      <td>SA1</td>\n",
       "      <td>1</td>\n",
       "      <td>...</td>\n",
       "      <td>Personal income (thousands of dollars)</td>\n",
       "      <td>85126000</td>\n",
       "      <td>76371000</td>\n",
       "      <td>65507000</td>\n",
       "      <td>...</td>\n",
       "      <td>10610320000</td>\n",
       "      <td>11381350000</td>\n",
       "      <td>11995419000</td>\n",
       "      <td>12492705000</td>\n",
       "      <td>12079444000</td>\n",
       "      <td>12459613000</td>\n",
       "      <td>13233436000</td>\n",
       "      <td>13904485000</td>\n",
       "      <td>14064468000</td>\n",
       "      <td>14683147000</td>\n",
       "    </tr>\n",
       "    <tr>\n",
       "      <th>1</th>\n",
       "      <td>0</td>\n",
       "      <td>United States</td>\n",
       "      <td>NaN</td>\n",
       "      <td>SA1</td>\n",
       "      <td>2</td>\n",
       "      <td>...</td>\n",
       "      <td>Population (persons) 1/</td>\n",
       "      <td>121769000</td>\n",
       "      <td>123075000</td>\n",
       "      <td>124038000</td>\n",
       "      <td>...</td>\n",
       "      <td>295516599</td>\n",
       "      <td>298379912</td>\n",
       "      <td>301231207</td>\n",
       "      <td>304093966</td>\n",
       "      <td>306771529</td>\n",
       "      <td>309347057</td>\n",
       "      <td>311721632</td>\n",
       "      <td>314112078</td>\n",
       "      <td>316497531</td>\n",
       "      <td>318857056</td>\n",
       "    </tr>\n",
       "    <tr>\n",
       "      <th>2</th>\n",
       "      <td>0</td>\n",
       "      <td>United States</td>\n",
       "      <td>NaN</td>\n",
       "      <td>SA1</td>\n",
       "      <td>3</td>\n",
       "      <td>...</td>\n",
       "      <td>Per capita personal income (dollars) 2/</td>\n",
       "      <td>699</td>\n",
       "      <td>621</td>\n",
       "      <td>528</td>\n",
       "      <td>...</td>\n",
       "      <td>35904</td>\n",
       "      <td>38144</td>\n",
       "      <td>39821</td>\n",
       "      <td>41082</td>\n",
       "      <td>39376</td>\n",
       "      <td>40277</td>\n",
       "      <td>42453</td>\n",
       "      <td>44266</td>\n",
       "      <td>44438</td>\n",
       "      <td>46049</td>\n",
       "    </tr>\n",
       "    <tr>\n",
       "      <th>3</th>\n",
       "      <td>1000</td>\n",
       "      <td>Alabama</td>\n",
       "      <td>5</td>\n",
       "      <td>SA1</td>\n",
       "      <td>1</td>\n",
       "      <td>...</td>\n",
       "      <td>Personal income (thousands of dollars)</td>\n",
       "      <td>842894</td>\n",
       "      <td>697154</td>\n",
       "      <td>583342</td>\n",
       "      <td>...</td>\n",
       "      <td>138019022</td>\n",
       "      <td>146661249</td>\n",
       "      <td>153787754</td>\n",
       "      <td>159993535</td>\n",
       "      <td>157141435</td>\n",
       "      <td>163066901</td>\n",
       "      <td>169030399</td>\n",
       "      <td>173601429</td>\n",
       "      <td>174876574</td>\n",
       "      <td>181908767</td>\n",
       "    </tr>\n",
       "    <tr>\n",
       "      <th>4</th>\n",
       "      <td>1000</td>\n",
       "      <td>Alabama</td>\n",
       "      <td>5</td>\n",
       "      <td>SA1</td>\n",
       "      <td>2</td>\n",
       "      <td>...</td>\n",
       "      <td>Population (persons) 1/</td>\n",
       "      <td>2644000</td>\n",
       "      <td>2647000</td>\n",
       "      <td>2649000</td>\n",
       "      <td>...</td>\n",
       "      <td>4569805</td>\n",
       "      <td>4628981</td>\n",
       "      <td>4672840</td>\n",
       "      <td>4718206</td>\n",
       "      <td>4757938</td>\n",
       "      <td>4785822</td>\n",
       "      <td>4801695</td>\n",
       "      <td>4817484</td>\n",
       "      <td>4833996</td>\n",
       "      <td>4849377</td>\n",
       "    </tr>\n",
       "  </tbody>\n",
       "</table>\n",
       "<p>5 rows × 93 columns</p>\n",
       "</div>"
      ],
      "text/plain": [
       "  GeoFIPS        GeoName  Region Table  LineCode IndustryClassification  \\\n",
       "0       0  United States     NaN   SA1         1                    ...   \n",
       "1       0  United States     NaN   SA1         2                    ...   \n",
       "2       0  United States     NaN   SA1         3                    ...   \n",
       "3    1000        Alabama       5   SA1         1                    ...   \n",
       "4    1000        Alabama       5   SA1         2                    ...   \n",
       "\n",
       "                               Description       1929       1930       1931  \\\n",
       "0   Personal income (thousands of dollars)   85126000   76371000   65507000   \n",
       "1                  Population (persons) 1/  121769000  123075000  124038000   \n",
       "2  Per capita personal income (dollars) 2/        699        621        528   \n",
       "3   Personal income (thousands of dollars)     842894     697154     583342   \n",
       "4                  Population (persons) 1/    2644000    2647000    2649000   \n",
       "\n",
       "      ...              2005         2006         2007         2008  \\\n",
       "0     ...       10610320000  11381350000  11995419000  12492705000   \n",
       "1     ...         295516599    298379912    301231207    304093966   \n",
       "2     ...             35904        38144        39821        41082   \n",
       "3     ...         138019022    146661249    153787754    159993535   \n",
       "4     ...           4569805      4628981      4672840      4718206   \n",
       "\n",
       "          2009         2010         2011         2012         2013  \\\n",
       "0  12079444000  12459613000  13233436000  13904485000  14064468000   \n",
       "1    306771529    309347057    311721632    314112078    316497531   \n",
       "2        39376        40277        42453        44266        44438   \n",
       "3    157141435    163066901    169030399    173601429    174876574   \n",
       "4      4757938      4785822      4801695      4817484      4833996   \n",
       "\n",
       "          2014  \n",
       "0  14683147000  \n",
       "1    318857056  \n",
       "2        46049  \n",
       "3    181908767  \n",
       "4      4849377  \n",
       "\n",
       "[5 rows x 93 columns]"
      ]
     },
     "execution_count": 11,
     "metadata": {},
     "output_type": "execute_result"
    }
   ],
   "source": [
    "inc.head()"
   ]
  },
  {
   "cell_type": "code",
   "execution_count": 12,
   "metadata": {
    "collapsed": true
   },
   "outputs": [],
   "source": [
    "droplist = (['Table','IndustryClassification'])\n",
    "\n",
    "inc.drop(droplist, inplace = True, axis = 1)"
   ]
  },
  {
   "cell_type": "code",
   "execution_count": 13,
   "metadata": {
    "collapsed": true
   },
   "outputs": [],
   "source": [
    "inc['GeoFIPS'] = inc['GeoFIPS'].apply(lambda x: x.zfill(5))"
   ]
  },
  {
   "cell_type": "code",
   "execution_count": 14,
   "metadata": {
    "collapsed": true
   },
   "outputs": [],
   "source": [
    "df = pd.read_csv('/Users/chadsmith/TELs_debt/data/debt_out.csv')"
   ]
  },
  {
   "cell_type": "markdown",
   "metadata": {},
   "source": [
    "This is the list of variables (largly costats) that are not required for this analysis"
   ]
  },
  {
   "cell_type": "code",
   "execution_count": 15,
   "metadata": {
    "collapsed": true
   },
   "outputs": [],
   "source": [
    "droplist =(['FIPSST','POP_TH18','POP_OV65','TOT_EMP','MFG_EMP','RETL_EMP','T_PUB_SCH',\\\n",
    "            'PUB_SCHL','PVT_SCHL','HSLD_PERS','HSG_UNITS','CH_HS_UNT','PRE_1940','VACANT',\\\n",
    "            'MDHOMEVAL','MED_INC','PC_INC','LANDAREA','GEN_REV','IGR_ST','TAX_REV','PT_REV',\\\n",
    "            'D_GEN_EXP','PC_GEN_EXP','RES_POP','PERS_POVT','SS_PERS','SS_PMT','POVT_PCT','FIPSCO',\\\n",
    "            'ST_MED_H_V','ST_MED_INC','ST_PC_INC','ST_L_GREV','ST_IGR_ST','ST_L_TAX','ST_PT_REV',\\\n",
    "            'ST_L_EXP','ST_P_LEXP','FIPST_N','RATE_L','RATE_L2','MRATE_L','CRATE_L','SRATE_L',\\\n",
    "            'SRATE_L2','MRATE_L2','CRATE_L2','MLEVY_L','CLEVY_L','CLEVY_L2','MLEVY_L2','MLEVY_L3',\\\n",
    "            'SLEVY_L','CLEVY_L3','CLEVY_L4','MLEVY_L4','SLEVY_L2','SLEVY_L3','SLEVY_L4','ASMT_L',\\\n",
    "            'ASMT_L2','ASMT_L3','CREVU_L','MREVU_L','SREVU_L','CGEXP_L','MGEXP_L','SGEXP_L','SGEXP_L2',\\\n",
    "            'MGEXP_L2','CFDISC_L','MFDISC_L','SFDISC_L','HOME_STEAD','HOME_STEAD2','HOME_STEAD3','CB_E',\\\n",
    "            'CB_G','CB_G2','CB_E2','CB_E3','CB_E4','FFDISC_L','TYPE1','TYPE2','BOTH','LIMITS',\\\n",
    "            'TYPE2_Y','SPC_RATE','LEVY_L','REVU_L','GEXP_L','GP_RATE','GP_LEVY','GP_REVU','GP_GEXP',\\\n",
    "            'GP_LMT','SC_LMT','TREND','FOOD_SERV_EMP_PNFARM','PRV_SCHL_KIND','OTH_SERV_EMP_PNFARM',\\\n",
    "            'PRV_SCHL_9_12','MANU_EMP_PNFARM','PUB_SCHL_OV3_M','PRV_SCHL_9_12_F','PRV_SCHL_ELEM_HS',\\\n",
    "            'PUB_SCHL_ELEM_HS','RES_POP1','PUB_SCHL_OV3_F','PRV_SCHL_PREK_F','RETL_EMP_PNFARM',\\\n",
    "            'PROF_SERV_EMP_PNFARM','PRV_SCHL_KIND_M','PRV_SCHL_PREK_M','SUPP_SERV_EMP_PNFARM',\\\n",
    "            'POV_EST_FAM_NUMER','EDUC_SERV_EMP_PNFARM','PRV_SCHL_PREK','PRV_SCHL_KIND_F',\\\n",
    "            'PRV_SCHL_1_8','PRV_SCHL_5_8_M','PUB_SCHL_TOT','PRV_SCHL_1_4_M','HSG_UNITS_ACS',\\\n",
    "            'TOT_AREA','POV_EST_FAM_DENOM','PUB_SCHL_OV3','RES_POP2','PRV_SCHL_9_12_M',\\\n",
    "            'PRV_SCHL_1_4_F','PRV_SCHL_5_8_F','TOT_EMP_PNFARM','RESPOP','DENSITY','POPGROWTH',\\\n",
    "            'PYOUNG','POP65','RESPOP2','PRE1940','PVT_SCH_02','PVT_SCH03_','POVERTY','PC_SSI',\\\n",
    "            'DIVERSITY','EMP_RES','MANU_RES','RETL_RES','SERV_RES'])"
   ]
  },
  {
   "cell_type": "code",
   "execution_count": 16,
   "metadata": {
    "collapsed": false
   },
   "outputs": [],
   "source": [
    "df.drop(droplist, inplace = True, axis = 1)"
   ]
  },
  {
   "cell_type": "code",
   "execution_count": 27,
   "metadata": {
    "collapsed": true
   },
   "outputs": [],
   "source": [
    "df['FIPS']=df.FIPS.astype('str')\n",
    "df['Year']=df.Year.astype('str')"
   ]
  },
  {
   "cell_type": "code",
   "execution_count": 28,
   "metadata": {
    "collapsed": false
   },
   "outputs": [],
   "source": [
    "df['FIPS'] = df['FIPS'].apply(lambda x: x.zfill(5))"
   ]
  },
  {
   "cell_type": "markdown",
   "metadata": {},
   "source": [
    "This establishes the list of dollar values that need to be deflated"
   ]
  },
  {
   "cell_type": "code",
   "execution_count": 29,
   "metadata": {
    "collapsed": false
   },
   "outputs": [],
   "source": [
    "dollar_list =(['GO','RV','GO_City, Town Vlg','GO_Co-op Utility',\\\n",
    "               'GO_College or Univ','GO_County/Parish','GO_Direct Issuer',\\\n",
    "               'GO_District','GO_Indian Tribe','GO_Local Authority',\\\n",
    "               'GO_State Authority','GO_State/Province','RV_City, Town Vlg',\\\n",
    "               'RV_Co-op Utility','RV_College or Univ','RV_County/Parish',\\\n",
    "               'RV_Direct Issuer','RV_District','RV_Indian Tribe','RV_Local Authority',\\\n",
    "               'RV_State Authority','RV_State/Province','GO_Development','GO_Education',\\\n",
    "               'GO_Electric Power','GO_Environmental Facilities','GO_General Purpose',\\\n",
    "               'GO_Healthcare','GO_Housing','GO_Public Facilities','GO_Transportation',\\\n",
    "               'GO_Utilities','RV_Development','RV_Education','RV_Electric Power',\\\n",
    "               'RV_Environmental Facilities','RV_General Purpose','RV_Healthcare',\\\n",
    "               'RV_Housing','RV_Public Facilities','RV_Transportation','RV_Utilities'])"
   ]
  },
  {
   "cell_type": "code",
   "execution_count": 30,
   "metadata": {
    "collapsed": false
   },
   "outputs": [
    {
     "data": {
      "text/html": [
       "<div>\n",
       "<table border=\"1\" class=\"dataframe\">\n",
       "  <thead>\n",
       "    <tr style=\"text-align: right;\">\n",
       "      <th></th>\n",
       "      <th>GeoFIPS</th>\n",
       "      <th>GeoName</th>\n",
       "      <th>Region</th>\n",
       "      <th>LineCode</th>\n",
       "      <th>Description</th>\n",
       "      <th>1929</th>\n",
       "      <th>1930</th>\n",
       "      <th>1931</th>\n",
       "      <th>1932</th>\n",
       "      <th>1933</th>\n",
       "      <th>...</th>\n",
       "      <th>2005</th>\n",
       "      <th>2006</th>\n",
       "      <th>2007</th>\n",
       "      <th>2008</th>\n",
       "      <th>2009</th>\n",
       "      <th>2010</th>\n",
       "      <th>2011</th>\n",
       "      <th>2012</th>\n",
       "      <th>2013</th>\n",
       "      <th>2014</th>\n",
       "    </tr>\n",
       "  </thead>\n",
       "  <tbody>\n",
       "    <tr>\n",
       "      <th>0</th>\n",
       "      <td>00000</td>\n",
       "      <td>United States</td>\n",
       "      <td>NaN</td>\n",
       "      <td>1</td>\n",
       "      <td>Personal income (thousands of dollars)</td>\n",
       "      <td>85126000</td>\n",
       "      <td>76371000</td>\n",
       "      <td>65507000</td>\n",
       "      <td>50134000</td>\n",
       "      <td>47085000</td>\n",
       "      <td>...</td>\n",
       "      <td>10610320000</td>\n",
       "      <td>11381350000</td>\n",
       "      <td>11995419000</td>\n",
       "      <td>12492705000</td>\n",
       "      <td>12079444000</td>\n",
       "      <td>12459613000</td>\n",
       "      <td>13233436000</td>\n",
       "      <td>13904485000</td>\n",
       "      <td>14064468000</td>\n",
       "      <td>14683147000</td>\n",
       "    </tr>\n",
       "    <tr>\n",
       "      <th>1</th>\n",
       "      <td>00000</td>\n",
       "      <td>United States</td>\n",
       "      <td>NaN</td>\n",
       "      <td>2</td>\n",
       "      <td>Population (persons) 1/</td>\n",
       "      <td>121769000</td>\n",
       "      <td>123075000</td>\n",
       "      <td>124038000</td>\n",
       "      <td>124839000</td>\n",
       "      <td>125580000</td>\n",
       "      <td>...</td>\n",
       "      <td>295516599</td>\n",
       "      <td>298379912</td>\n",
       "      <td>301231207</td>\n",
       "      <td>304093966</td>\n",
       "      <td>306771529</td>\n",
       "      <td>309347057</td>\n",
       "      <td>311721632</td>\n",
       "      <td>314112078</td>\n",
       "      <td>316497531</td>\n",
       "      <td>318857056</td>\n",
       "    </tr>\n",
       "    <tr>\n",
       "      <th>2</th>\n",
       "      <td>00000</td>\n",
       "      <td>United States</td>\n",
       "      <td>NaN</td>\n",
       "      <td>3</td>\n",
       "      <td>Per capita personal income (dollars) 2/</td>\n",
       "      <td>699</td>\n",
       "      <td>621</td>\n",
       "      <td>528</td>\n",
       "      <td>402</td>\n",
       "      <td>375</td>\n",
       "      <td>...</td>\n",
       "      <td>35904</td>\n",
       "      <td>38144</td>\n",
       "      <td>39821</td>\n",
       "      <td>41082</td>\n",
       "      <td>39376</td>\n",
       "      <td>40277</td>\n",
       "      <td>42453</td>\n",
       "      <td>44266</td>\n",
       "      <td>44438</td>\n",
       "      <td>46049</td>\n",
       "    </tr>\n",
       "    <tr>\n",
       "      <th>3</th>\n",
       "      <td>01000</td>\n",
       "      <td>Alabama</td>\n",
       "      <td>5</td>\n",
       "      <td>1</td>\n",
       "      <td>Personal income (thousands of dollars)</td>\n",
       "      <td>842894</td>\n",
       "      <td>697154</td>\n",
       "      <td>583342</td>\n",
       "      <td>421538</td>\n",
       "      <td>435290</td>\n",
       "      <td>...</td>\n",
       "      <td>138019022</td>\n",
       "      <td>146661249</td>\n",
       "      <td>153787754</td>\n",
       "      <td>159993535</td>\n",
       "      <td>157141435</td>\n",
       "      <td>163066901</td>\n",
       "      <td>169030399</td>\n",
       "      <td>173601429</td>\n",
       "      <td>174876574</td>\n",
       "      <td>181908767</td>\n",
       "    </tr>\n",
       "    <tr>\n",
       "      <th>4</th>\n",
       "      <td>01000</td>\n",
       "      <td>Alabama</td>\n",
       "      <td>5</td>\n",
       "      <td>2</td>\n",
       "      <td>Population (persons) 1/</td>\n",
       "      <td>2644000</td>\n",
       "      <td>2647000</td>\n",
       "      <td>2649000</td>\n",
       "      <td>2653000</td>\n",
       "      <td>2661000</td>\n",
       "      <td>...</td>\n",
       "      <td>4569805</td>\n",
       "      <td>4628981</td>\n",
       "      <td>4672840</td>\n",
       "      <td>4718206</td>\n",
       "      <td>4757938</td>\n",
       "      <td>4785822</td>\n",
       "      <td>4801695</td>\n",
       "      <td>4817484</td>\n",
       "      <td>4833996</td>\n",
       "      <td>4849377</td>\n",
       "    </tr>\n",
       "  </tbody>\n",
       "</table>\n",
       "<p>5 rows × 91 columns</p>\n",
       "</div>"
      ],
      "text/plain": [
       "  GeoFIPS        GeoName  Region  LineCode  \\\n",
       "0   00000  United States     NaN         1   \n",
       "1   00000  United States     NaN         2   \n",
       "2   00000  United States     NaN         3   \n",
       "3   01000        Alabama       5         1   \n",
       "4   01000        Alabama       5         2   \n",
       "\n",
       "                               Description       1929       1930       1931  \\\n",
       "0   Personal income (thousands of dollars)   85126000   76371000   65507000   \n",
       "1                  Population (persons) 1/  121769000  123075000  124038000   \n",
       "2  Per capita personal income (dollars) 2/        699        621        528   \n",
       "3   Personal income (thousands of dollars)     842894     697154     583342   \n",
       "4                  Population (persons) 1/    2644000    2647000    2649000   \n",
       "\n",
       "        1932       1933     ...              2005         2006         2007  \\\n",
       "0   50134000   47085000     ...       10610320000  11381350000  11995419000   \n",
       "1  124839000  125580000     ...         295516599    298379912    301231207   \n",
       "2        402        375     ...             35904        38144        39821   \n",
       "3     421538     435290     ...         138019022    146661249    153787754   \n",
       "4    2653000    2661000     ...           4569805      4628981      4672840   \n",
       "\n",
       "          2008         2009         2010         2011         2012  \\\n",
       "0  12492705000  12079444000  12459613000  13233436000  13904485000   \n",
       "1    304093966    306771529    309347057    311721632    314112078   \n",
       "2        41082        39376        40277        42453        44266   \n",
       "3    159993535    157141435    163066901    169030399    173601429   \n",
       "4      4718206      4757938      4785822      4801695      4817484   \n",
       "\n",
       "          2013         2014  \n",
       "0  14064468000  14683147000  \n",
       "1    316497531    318857056  \n",
       "2        44438        46049  \n",
       "3    174876574    181908767  \n",
       "4      4833996      4849377  \n",
       "\n",
       "[5 rows x 91 columns]"
      ]
     },
     "execution_count": 30,
     "metadata": {},
     "output_type": "execute_result"
    }
   ],
   "source": [
    "inc.head()"
   ]
  },
  {
   "cell_type": "markdown",
   "metadata": {},
   "source": [
    "I need to transpose this so that each year is a row"
   ]
  },
  {
   "cell_type": "code",
   "execution_count": 31,
   "metadata": {
    "collapsed": false
   },
   "outputs": [
    {
     "ename": "ValueError",
     "evalue": "labels ['PCECTPI'] not contained in axis",
     "output_type": "error",
     "traceback": [
      "\u001b[0;31m---------------------------------------------------------------------------\u001b[0m",
      "\u001b[0;31mValueError\u001b[0m                                Traceback (most recent call last)",
      "\u001b[0;32m<ipython-input-31-0bbdc9799a61>\u001b[0m in \u001b[0;36m<module>\u001b[0;34m()\u001b[0m\n\u001b[0;32m----> 1\u001b[0;31m \u001b[0mpce\u001b[0m\u001b[0;34m.\u001b[0m\u001b[0mdrop\u001b[0m\u001b[0;34m(\u001b[0m\u001b[0;34m'PCECTPI'\u001b[0m\u001b[0;34m,\u001b[0m \u001b[0minplace\u001b[0m \u001b[0;34m=\u001b[0m \u001b[0mTrue\u001b[0m\u001b[0;34m,\u001b[0m \u001b[0maxis\u001b[0m \u001b[0;34m=\u001b[0m \u001b[0;36m1\u001b[0m\u001b[0;34m)\u001b[0m\u001b[0;34m\u001b[0m\u001b[0m\n\u001b[0m",
      "\u001b[0;32m/Users/chadsmith/anaconda/lib/python2.7/site-packages/pandas/core/generic.pyc\u001b[0m in \u001b[0;36mdrop\u001b[0;34m(self, labels, axis, level, inplace, errors)\u001b[0m\n\u001b[1;32m   1595\u001b[0m                 \u001b[0mnew_axis\u001b[0m \u001b[0;34m=\u001b[0m \u001b[0maxis\u001b[0m\u001b[0;34m.\u001b[0m\u001b[0mdrop\u001b[0m\u001b[0;34m(\u001b[0m\u001b[0mlabels\u001b[0m\u001b[0;34m,\u001b[0m \u001b[0mlevel\u001b[0m\u001b[0;34m=\u001b[0m\u001b[0mlevel\u001b[0m\u001b[0;34m,\u001b[0m \u001b[0merrors\u001b[0m\u001b[0;34m=\u001b[0m\u001b[0merrors\u001b[0m\u001b[0;34m)\u001b[0m\u001b[0;34m\u001b[0m\u001b[0m\n\u001b[1;32m   1596\u001b[0m             \u001b[0;32melse\u001b[0m\u001b[0;34m:\u001b[0m\u001b[0;34m\u001b[0m\u001b[0m\n\u001b[0;32m-> 1597\u001b[0;31m                 \u001b[0mnew_axis\u001b[0m \u001b[0;34m=\u001b[0m \u001b[0maxis\u001b[0m\u001b[0;34m.\u001b[0m\u001b[0mdrop\u001b[0m\u001b[0;34m(\u001b[0m\u001b[0mlabels\u001b[0m\u001b[0;34m,\u001b[0m \u001b[0merrors\u001b[0m\u001b[0;34m=\u001b[0m\u001b[0merrors\u001b[0m\u001b[0;34m)\u001b[0m\u001b[0;34m\u001b[0m\u001b[0m\n\u001b[0m\u001b[1;32m   1598\u001b[0m             \u001b[0mdropped\u001b[0m \u001b[0;34m=\u001b[0m \u001b[0mself\u001b[0m\u001b[0;34m.\u001b[0m\u001b[0mreindex\u001b[0m\u001b[0;34m(\u001b[0m\u001b[0;34m**\u001b[0m\u001b[0;34m{\u001b[0m\u001b[0maxis_name\u001b[0m\u001b[0;34m:\u001b[0m \u001b[0mnew_axis\u001b[0m\u001b[0;34m}\u001b[0m\u001b[0;34m)\u001b[0m\u001b[0;34m\u001b[0m\u001b[0m\n\u001b[1;32m   1599\u001b[0m             \u001b[0;32mtry\u001b[0m\u001b[0;34m:\u001b[0m\u001b[0;34m\u001b[0m\u001b[0m\n",
      "\u001b[0;32m/Users/chadsmith/anaconda/lib/python2.7/site-packages/pandas/core/index.pyc\u001b[0m in \u001b[0;36mdrop\u001b[0;34m(self, labels, errors)\u001b[0m\n\u001b[1;32m   2568\u001b[0m         \u001b[0;32mif\u001b[0m \u001b[0mmask\u001b[0m\u001b[0;34m.\u001b[0m\u001b[0many\u001b[0m\u001b[0;34m(\u001b[0m\u001b[0;34m)\u001b[0m\u001b[0;34m:\u001b[0m\u001b[0;34m\u001b[0m\u001b[0m\n\u001b[1;32m   2569\u001b[0m             \u001b[0;32mif\u001b[0m \u001b[0merrors\u001b[0m \u001b[0;34m!=\u001b[0m \u001b[0;34m'ignore'\u001b[0m\u001b[0;34m:\u001b[0m\u001b[0;34m\u001b[0m\u001b[0m\n\u001b[0;32m-> 2570\u001b[0;31m                 \u001b[0;32mraise\u001b[0m \u001b[0mValueError\u001b[0m\u001b[0;34m(\u001b[0m\u001b[0;34m'labels %s not contained in axis'\u001b[0m \u001b[0;34m%\u001b[0m \u001b[0mlabels\u001b[0m\u001b[0;34m[\u001b[0m\u001b[0mmask\u001b[0m\u001b[0;34m]\u001b[0m\u001b[0;34m)\u001b[0m\u001b[0;34m\u001b[0m\u001b[0m\n\u001b[0m\u001b[1;32m   2571\u001b[0m             \u001b[0mindexer\u001b[0m \u001b[0;34m=\u001b[0m \u001b[0mindexer\u001b[0m\u001b[0;34m[\u001b[0m\u001b[0;34m~\u001b[0m\u001b[0mmask\u001b[0m\u001b[0;34m]\u001b[0m\u001b[0;34m\u001b[0m\u001b[0m\n\u001b[1;32m   2572\u001b[0m         \u001b[0;32mreturn\u001b[0m \u001b[0mself\u001b[0m\u001b[0;34m.\u001b[0m\u001b[0mdelete\u001b[0m\u001b[0;34m(\u001b[0m\u001b[0mindexer\u001b[0m\u001b[0;34m)\u001b[0m\u001b[0;34m\u001b[0m\u001b[0m\n",
      "\u001b[0;31mValueError\u001b[0m: labels ['PCECTPI'] not contained in axis"
     ]
    }
   ],
   "source": [
    "pce.drop('PCECTPI', inplace = True, axis = 1)"
   ]
  },
  {
   "cell_type": "code",
   "execution_count": 35,
   "metadata": {
    "collapsed": false
   },
   "outputs": [],
   "source": [
    "df = pd.merge(pce, df, left_on = 'yr', right_on = 'Year', how = 'right')"
   ]
  },
  {
   "cell_type": "code",
   "execution_count": 36,
   "metadata": {
    "collapsed": false
   },
   "outputs": [],
   "source": [
    "df.drop('yr',inplace = True, axis = 1)"
   ]
  },
  {
   "cell_type": "code",
   "execution_count": 46,
   "metadata": {
    "collapsed": false
   },
   "outputs": [],
   "source": [
    "for i in dollar_list:\n",
    "    df[i] = df[i] * df['index']"
   ]
  },
  {
   "cell_type": "code",
   "execution_count": 47,
   "metadata": {
    "collapsed": false
   },
   "outputs": [
    {
     "data": {
      "text/html": [
       "<div>\n",
       "<table border=\"1\" class=\"dataframe\">\n",
       "  <thead>\n",
       "    <tr style=\"text-align: right;\">\n",
       "      <th></th>\n",
       "      <th>index</th>\n",
       "      <th>Year</th>\n",
       "      <th>FIPS</th>\n",
       "      <th>GO</th>\n",
       "      <th>RV</th>\n",
       "      <th>GO_City, Town Vlg</th>\n",
       "      <th>GO_Co-op Utility</th>\n",
       "      <th>GO_College or Univ</th>\n",
       "      <th>GO_County/Parish</th>\n",
       "      <th>GO_Direct Issuer</th>\n",
       "      <th>...</th>\n",
       "      <th>RV_Developmentadj</th>\n",
       "      <th>RV_Educationadj</th>\n",
       "      <th>RV_Electric Poweradj</th>\n",
       "      <th>RV_Environmental Facilitiesadj</th>\n",
       "      <th>RV_General Purposeadj</th>\n",
       "      <th>RV_Healthcareadj</th>\n",
       "      <th>RV_Housingadj</th>\n",
       "      <th>RV_Public Facilitiesadj</th>\n",
       "      <th>RV_Transportationadj</th>\n",
       "      <th>RV_Utilitiesadj</th>\n",
       "    </tr>\n",
       "  </thead>\n",
       "  <tbody>\n",
       "    <tr>\n",
       "      <th>0</th>\n",
       "      <td>1.794056</td>\n",
       "      <td>1984</td>\n",
       "      <td>01000</td>\n",
       "      <td>0.000000</td>\n",
       "      <td>1431.570475</td>\n",
       "      <td>0</td>\n",
       "      <td>0</td>\n",
       "      <td>0</td>\n",
       "      <td>0.000000</td>\n",
       "      <td>0</td>\n",
       "      <td>...</td>\n",
       "      <td>10.764335</td>\n",
       "      <td>0.000000</td>\n",
       "      <td>0.000000</td>\n",
       "      <td>0</td>\n",
       "      <td>0.00000</td>\n",
       "      <td>464.875759</td>\n",
       "      <td>221.964181</td>\n",
       "      <td>0</td>\n",
       "      <td>733.9662</td>\n",
       "      <td>0.000000</td>\n",
       "    </tr>\n",
       "    <tr>\n",
       "      <th>1</th>\n",
       "      <td>1.794056</td>\n",
       "      <td>1984</td>\n",
       "      <td>01001</td>\n",
       "      <td>0.000000</td>\n",
       "      <td>2.915341</td>\n",
       "      <td>0</td>\n",
       "      <td>0</td>\n",
       "      <td>0</td>\n",
       "      <td>0.000000</td>\n",
       "      <td>0</td>\n",
       "      <td>...</td>\n",
       "      <td>0.000000</td>\n",
       "      <td>0.000000</td>\n",
       "      <td>0.000000</td>\n",
       "      <td>0</td>\n",
       "      <td>0.00000</td>\n",
       "      <td>0.000000</td>\n",
       "      <td>0.000000</td>\n",
       "      <td>0</td>\n",
       "      <td>0.0000</td>\n",
       "      <td>2.915341</td>\n",
       "    </tr>\n",
       "    <tr>\n",
       "      <th>2</th>\n",
       "      <td>1.794056</td>\n",
       "      <td>1984</td>\n",
       "      <td>01003</td>\n",
       "      <td>11.392255</td>\n",
       "      <td>41.855324</td>\n",
       "      <td>0</td>\n",
       "      <td>0</td>\n",
       "      <td>0</td>\n",
       "      <td>11.392255</td>\n",
       "      <td>0</td>\n",
       "      <td>...</td>\n",
       "      <td>3.408706</td>\n",
       "      <td>21.528671</td>\n",
       "      <td>11.472987</td>\n",
       "      <td>0</td>\n",
       "      <td>0.00000</td>\n",
       "      <td>0.000000</td>\n",
       "      <td>0.000000</td>\n",
       "      <td>0</td>\n",
       "      <td>0.0000</td>\n",
       "      <td>5.444960</td>\n",
       "    </tr>\n",
       "    <tr>\n",
       "      <th>3</th>\n",
       "      <td>1.794056</td>\n",
       "      <td>1984</td>\n",
       "      <td>01007</td>\n",
       "      <td>0.000000</td>\n",
       "      <td>0.717622</td>\n",
       "      <td>0</td>\n",
       "      <td>0</td>\n",
       "      <td>0</td>\n",
       "      <td>0.000000</td>\n",
       "      <td>0</td>\n",
       "      <td>...</td>\n",
       "      <td>0.717622</td>\n",
       "      <td>0.000000</td>\n",
       "      <td>0.000000</td>\n",
       "      <td>0</td>\n",
       "      <td>0.00000</td>\n",
       "      <td>0.000000</td>\n",
       "      <td>0.000000</td>\n",
       "      <td>0</td>\n",
       "      <td>0.0000</td>\n",
       "      <td>0.000000</td>\n",
       "    </tr>\n",
       "    <tr>\n",
       "      <th>4</th>\n",
       "      <td>1.794056</td>\n",
       "      <td>1984</td>\n",
       "      <td>01021</td>\n",
       "      <td>1.794056</td>\n",
       "      <td>2.556530</td>\n",
       "      <td>0</td>\n",
       "      <td>0</td>\n",
       "      <td>0</td>\n",
       "      <td>1.794056</td>\n",
       "      <td>0</td>\n",
       "      <td>...</td>\n",
       "      <td>0.000000</td>\n",
       "      <td>0.000000</td>\n",
       "      <td>0.000000</td>\n",
       "      <td>0</td>\n",
       "      <td>2.55653</td>\n",
       "      <td>0.000000</td>\n",
       "      <td>0.000000</td>\n",
       "      <td>0</td>\n",
       "      <td>0.0000</td>\n",
       "      <td>0.000000</td>\n",
       "    </tr>\n",
       "  </tbody>\n",
       "</table>\n",
       "<p>5 rows × 87 columns</p>\n",
       "</div>"
      ],
      "text/plain": [
       "      index  Year   FIPS         GO           RV  GO_City, Town Vlg  \\\n",
       "0  1.794056  1984  01000   0.000000  1431.570475                  0   \n",
       "1  1.794056  1984  01001   0.000000     2.915341                  0   \n",
       "2  1.794056  1984  01003  11.392255    41.855324                  0   \n",
       "3  1.794056  1984  01007   0.000000     0.717622                  0   \n",
       "4  1.794056  1984  01021   1.794056     2.556530                  0   \n",
       "\n",
       "   GO_Co-op Utility  GO_College or Univ  GO_County/Parish  GO_Direct Issuer  \\\n",
       "0                 0                   0          0.000000                 0   \n",
       "1                 0                   0          0.000000                 0   \n",
       "2                 0                   0         11.392255                 0   \n",
       "3                 0                   0          0.000000                 0   \n",
       "4                 0                   0          1.794056                 0   \n",
       "\n",
       "        ...         RV_Developmentadj  RV_Educationadj  RV_Electric Poweradj  \\\n",
       "0       ...                 10.764335         0.000000              0.000000   \n",
       "1       ...                  0.000000         0.000000              0.000000   \n",
       "2       ...                  3.408706        21.528671             11.472987   \n",
       "3       ...                  0.717622         0.000000              0.000000   \n",
       "4       ...                  0.000000         0.000000              0.000000   \n",
       "\n",
       "   RV_Environmental Facilitiesadj  RV_General Purposeadj  RV_Healthcareadj  \\\n",
       "0                               0                0.00000        464.875759   \n",
       "1                               0                0.00000          0.000000   \n",
       "2                               0                0.00000          0.000000   \n",
       "3                               0                0.00000          0.000000   \n",
       "4                               0                2.55653          0.000000   \n",
       "\n",
       "   RV_Housingadj  RV_Public Facilitiesadj  RV_Transportationadj  \\\n",
       "0     221.964181                        0              733.9662   \n",
       "1       0.000000                        0                0.0000   \n",
       "2       0.000000                        0                0.0000   \n",
       "3       0.000000                        0                0.0000   \n",
       "4       0.000000                        0                0.0000   \n",
       "\n",
       "   RV_Utilitiesadj  \n",
       "0         0.000000  \n",
       "1         2.915341  \n",
       "2         5.444960  \n",
       "3         0.000000  \n",
       "4         0.000000  \n",
       "\n",
       "[5 rows x 87 columns]"
      ]
     },
     "execution_count": 47,
     "metadata": {},
     "output_type": "execute_result"
    }
   ],
   "source": [
    "df.head()"
   ]
  },
  {
   "cell_type": "markdown",
   "metadata": {},
   "source": [
    "We will be using the BEA region definitions that are found [here](http://www.bea.gov/regional/docs/regions.cfm). This file was added to the data file and labeled region."
   ]
  },
  {
   "cell_type": "code",
   "execution_count": null,
   "metadata": {
    "collapsed": true
   },
   "outputs": [],
   "source": []
  }
 ],
 "metadata": {
  "kernelspec": {
   "display_name": "Python 2",
   "language": "python",
   "name": "python2"
  },
  "language_info": {
   "codemirror_mode": {
    "name": "ipython",
    "version": 2
   },
   "file_extension": ".py",
   "mimetype": "text/x-python",
   "name": "python",
   "nbconvert_exporter": "python",
   "pygments_lexer": "ipython2",
   "version": "2.7.10"
  }
 },
 "nbformat": 4,
 "nbformat_minor": 0
}
