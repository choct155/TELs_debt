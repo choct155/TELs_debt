{
 "cells": [
  {
   "cell_type": "markdown",
   "metadata": {},
   "source": [
    "This is the notebook to establish the data required to create descriptive statistics of the debt data. Essentially this data will be used to tell the narrative of the story. To be useful the data will need to be deflated and then expressed in percapita terms. It will liklely need to be aggregated at the state, region, and national level with the debt separated by general obligation and revenue bonds."
   ]
  },
  {
   "cell_type": "code",
   "execution_count": 1,
   "metadata": {
    "collapsed": true
   },
   "outputs": [],
   "source": [
    "import numpy as np\n",
    "import pandas as pd\n",
    "from pandas import Series, DataFrame\n",
    "import glob\n",
    "import requests"
   ]
  },
  {
   "cell_type": "markdown",
   "metadata": {},
   "source": [
    "# Import State and Local Price deflators"
   ]
  },
  {
   "cell_type": "markdown",
   "metadata": {},
   "source": [
    "State and local price deflators were downloaded [here](https://research.stlouisfed.org/fred2/series/A829RD3A086NBEA#)"
   ]
  },
  {
   "cell_type": "code",
   "execution_count": 2,
   "metadata": {
    "collapsed": false
   },
   "outputs": [],
   "source": [
    "defl = pd.read_excel('../data/state_local_deflators.xls', header=10 )"
   ]
  },
  {
   "cell_type": "code",
   "execution_count": 3,
   "metadata": {
    "collapsed": true
   },
   "outputs": [],
   "source": [
    "defl.rename(columns={'A829RD3A086NBEA': 'SLDefl'}, inplace=True)"
   ]
  },
  {
   "cell_type": "code",
   "execution_count": 4,
   "metadata": {
    "collapsed": false
   },
   "outputs": [
    {
     "data": {
      "text/html": [
       "<div style=\"max-height:1000px;max-width:1500px;overflow:auto;\">\n",
       "<table border=\"1\" class=\"dataframe\">\n",
       "  <thead>\n",
       "    <tr style=\"text-align: right;\">\n",
       "      <th></th>\n",
       "      <th>observation_date</th>\n",
       "      <th>SLDefl</th>\n",
       "    </tr>\n",
       "  </thead>\n",
       "  <tbody>\n",
       "    <tr>\n",
       "      <th>0</th>\n",
       "      <td>1929-01-01</td>\n",
       "      <td> 3.968</td>\n",
       "    </tr>\n",
       "    <tr>\n",
       "      <th>1</th>\n",
       "      <td>1930-01-01</td>\n",
       "      <td> 3.862</td>\n",
       "    </tr>\n",
       "    <tr>\n",
       "      <th>2</th>\n",
       "      <td>1931-01-01</td>\n",
       "      <td> 3.632</td>\n",
       "    </tr>\n",
       "    <tr>\n",
       "      <th>3</th>\n",
       "      <td>1932-01-01</td>\n",
       "      <td> 3.258</td>\n",
       "    </tr>\n",
       "    <tr>\n",
       "      <th>4</th>\n",
       "      <td>1933-01-01</td>\n",
       "      <td> 3.372</td>\n",
       "    </tr>\n",
       "  </tbody>\n",
       "</table>\n",
       "</div>"
      ],
      "text/plain": [
       "  observation_date  SLDefl\n",
       "0       1929-01-01   3.968\n",
       "1       1930-01-01   3.862\n",
       "2       1931-01-01   3.632\n",
       "3       1932-01-01   3.258\n",
       "4       1933-01-01   3.372"
      ]
     },
     "execution_count": 4,
     "metadata": {},
     "output_type": "execute_result"
    }
   ],
   "source": [
    "defl.head()"
   ]
  },
  {
   "cell_type": "code",
   "execution_count": 5,
   "metadata": {
    "collapsed": false
   },
   "outputs": [],
   "source": [
    "defl['yr'] = defl.observation_date.map(lambda x: x.strftime('%Y'))"
   ]
  },
  {
   "cell_type": "code",
   "execution_count": 6,
   "metadata": {
    "collapsed": false
   },
   "outputs": [],
   "source": [
    "defl.drop('observation_date', inplace=True, axis = 1)"
   ]
  },
  {
   "cell_type": "markdown",
   "metadata": {},
   "source": [
    "Now I need to convert the index into a multiplier. Since 2009 is the base year, we need the value for 2009."
   ]
  },
  {
   "cell_type": "code",
   "execution_count": 7,
   "metadata": {
    "collapsed": false
   },
   "outputs": [
    {
     "data": {
      "text/html": [
       "<div style=\"max-height:1000px;max-width:1500px;overflow:auto;\">\n",
       "<table border=\"1\" class=\"dataframe\">\n",
       "  <thead>\n",
       "    <tr style=\"text-align: right;\">\n",
       "      <th></th>\n",
       "      <th>SLDefl</th>\n",
       "      <th>yr</th>\n",
       "    </tr>\n",
       "  </thead>\n",
       "  <tbody>\n",
       "    <tr>\n",
       "      <th>80</th>\n",
       "      <td> 100</td>\n",
       "      <td> 2009</td>\n",
       "    </tr>\n",
       "  </tbody>\n",
       "</table>\n",
       "</div>"
      ],
      "text/plain": [
       "    SLDefl    yr\n",
       "80     100  2009"
      ]
     },
     "execution_count": 7,
     "metadata": {},
     "output_type": "execute_result"
    }
   ],
   "source": [
    "defl.loc[defl['yr']=='2009']"
   ]
  },
  {
   "cell_type": "markdown",
   "metadata": {},
   "source": [
    "\n",
    "The formula for the index will be Base/Comparison"
   ]
  },
  {
   "cell_type": "code",
   "execution_count": 8,
   "metadata": {
    "collapsed": true
   },
   "outputs": [],
   "source": [
    "defl['index'] = 100/defl['SLDefl']"
   ]
  },
  {
   "cell_type": "code",
   "execution_count": 9,
   "metadata": {
    "collapsed": false
   },
   "outputs": [
    {
     "data": {
      "text/html": [
       "<div style=\"max-height:1000px;max-width:1500px;overflow:auto;\">\n",
       "<table border=\"1\" class=\"dataframe\">\n",
       "  <thead>\n",
       "    <tr style=\"text-align: right;\">\n",
       "      <th></th>\n",
       "      <th>SLDefl</th>\n",
       "      <th>yr</th>\n",
       "      <th>index</th>\n",
       "    </tr>\n",
       "  </thead>\n",
       "  <tbody>\n",
       "    <tr>\n",
       "      <th>0</th>\n",
       "      <td> 3.968</td>\n",
       "      <td> 1929</td>\n",
       "      <td> 25.201613</td>\n",
       "    </tr>\n",
       "    <tr>\n",
       "      <th>1</th>\n",
       "      <td> 3.862</td>\n",
       "      <td> 1930</td>\n",
       "      <td> 25.893320</td>\n",
       "    </tr>\n",
       "    <tr>\n",
       "      <th>2</th>\n",
       "      <td> 3.632</td>\n",
       "      <td> 1931</td>\n",
       "      <td> 27.533040</td>\n",
       "    </tr>\n",
       "    <tr>\n",
       "      <th>3</th>\n",
       "      <td> 3.258</td>\n",
       "      <td> 1932</td>\n",
       "      <td> 30.693677</td>\n",
       "    </tr>\n",
       "    <tr>\n",
       "      <th>4</th>\n",
       "      <td> 3.372</td>\n",
       "      <td> 1933</td>\n",
       "      <td> 29.655991</td>\n",
       "    </tr>\n",
       "  </tbody>\n",
       "</table>\n",
       "</div>"
      ],
      "text/plain": [
       "   SLDefl    yr      index\n",
       "0   3.968  1929  25.201613\n",
       "1   3.862  1930  25.893320\n",
       "2   3.632  1931  27.533040\n",
       "3   3.258  1932  30.693677\n",
       "4   3.372  1933  29.655991"
      ]
     },
     "execution_count": 9,
     "metadata": {},
     "output_type": "execute_result"
    }
   ],
   "source": [
    "defl.head()"
   ]
  },
  {
   "cell_type": "markdown",
   "metadata": {},
   "source": [
    "Now I need to import the personal income and population data from [here](http://www.bea.gov/regional/downloadzip.cfm)"
   ]
  },
  {
   "cell_type": "code",
   "execution_count": 10,
   "metadata": {
    "collapsed": true
   },
   "outputs": [],
   "source": [
    "inc = pd.read_csv('../data/SA1_1929_2014.csv')"
   ]
  },
  {
   "cell_type": "code",
   "execution_count": 11,
   "metadata": {
    "collapsed": false
   },
   "outputs": [],
   "source": [
    "inc['GeoFIPS'] = inc['GeoFIPS'].apply(lambda x: x.zfill(5))\n",
    "\n",
    "inc['ST']= inc['GeoFIPS'].str.extract('(..)')"
   ]
  },
  {
   "cell_type": "code",
   "execution_count": 12,
   "metadata": {
    "collapsed": false
   },
   "outputs": [
    {
     "data": {
      "text/html": [
       "<div style=\"max-height:1000px;max-width:1500px;overflow:auto;\">\n",
       "<table border=\"1\" class=\"dataframe\">\n",
       "  <thead>\n",
       "    <tr style=\"text-align: right;\">\n",
       "      <th></th>\n",
       "      <th>GeoFIPS</th>\n",
       "      <th>GeoName</th>\n",
       "      <th>Region</th>\n",
       "      <th>Table</th>\n",
       "      <th>LineCode</th>\n",
       "      <th>IndustryClassification</th>\n",
       "      <th>Description</th>\n",
       "      <th>1929</th>\n",
       "      <th>1930</th>\n",
       "      <th>1931</th>\n",
       "      <th>...</th>\n",
       "      <th>2006</th>\n",
       "      <th>2007</th>\n",
       "      <th>2008</th>\n",
       "      <th>2009</th>\n",
       "      <th>2010</th>\n",
       "      <th>2011</th>\n",
       "      <th>2012</th>\n",
       "      <th>2013</th>\n",
       "      <th>2014</th>\n",
       "      <th>ST</th>\n",
       "    </tr>\n",
       "  </thead>\n",
       "  <tbody>\n",
       "    <tr>\n",
       "      <th>0</th>\n",
       "      <td> 00000</td>\n",
       "      <td> United States</td>\n",
       "      <td>NaN</td>\n",
       "      <td> SA1</td>\n",
       "      <td> 1</td>\n",
       "      <td> ...</td>\n",
       "      <td>  Personal income (thousands of dollars)</td>\n",
       "      <td>  85126000</td>\n",
       "      <td>  76371000</td>\n",
       "      <td>  65507000</td>\n",
       "      <td>...</td>\n",
       "      <td> 11381350000</td>\n",
       "      <td> 11995419000</td>\n",
       "      <td> 12492705000</td>\n",
       "      <td> 12079444000</td>\n",
       "      <td> 12459613000</td>\n",
       "      <td> 13233436000</td>\n",
       "      <td> 13904485000</td>\n",
       "      <td> 14064468000</td>\n",
       "      <td> 14683147000</td>\n",
       "      <td> 00</td>\n",
       "    </tr>\n",
       "    <tr>\n",
       "      <th>1</th>\n",
       "      <td> 00000</td>\n",
       "      <td> United States</td>\n",
       "      <td>NaN</td>\n",
       "      <td> SA1</td>\n",
       "      <td> 2</td>\n",
       "      <td> ...</td>\n",
       "      <td>                 Population (persons) 1/</td>\n",
       "      <td> 121769000</td>\n",
       "      <td> 123075000</td>\n",
       "      <td> 124038000</td>\n",
       "      <td>...</td>\n",
       "      <td>   298379912</td>\n",
       "      <td>   301231207</td>\n",
       "      <td>   304093966</td>\n",
       "      <td>   306771529</td>\n",
       "      <td>   309347057</td>\n",
       "      <td>   311721632</td>\n",
       "      <td>   314112078</td>\n",
       "      <td>   316497531</td>\n",
       "      <td>   318857056</td>\n",
       "      <td> 00</td>\n",
       "    </tr>\n",
       "    <tr>\n",
       "      <th>2</th>\n",
       "      <td> 00000</td>\n",
       "      <td> United States</td>\n",
       "      <td>NaN</td>\n",
       "      <td> SA1</td>\n",
       "      <td> 3</td>\n",
       "      <td> ...</td>\n",
       "      <td> Per capita personal income (dollars) 2/</td>\n",
       "      <td>       699</td>\n",
       "      <td>       621</td>\n",
       "      <td>       528</td>\n",
       "      <td>...</td>\n",
       "      <td>       38144</td>\n",
       "      <td>       39821</td>\n",
       "      <td>       41082</td>\n",
       "      <td>       39376</td>\n",
       "      <td>       40277</td>\n",
       "      <td>       42453</td>\n",
       "      <td>       44266</td>\n",
       "      <td>       44438</td>\n",
       "      <td>       46049</td>\n",
       "      <td> 00</td>\n",
       "    </tr>\n",
       "    <tr>\n",
       "      <th>3</th>\n",
       "      <td> 01000</td>\n",
       "      <td>       Alabama</td>\n",
       "      <td>  5</td>\n",
       "      <td> SA1</td>\n",
       "      <td> 1</td>\n",
       "      <td> ...</td>\n",
       "      <td>  Personal income (thousands of dollars)</td>\n",
       "      <td>    842894</td>\n",
       "      <td>    697154</td>\n",
       "      <td>    583342</td>\n",
       "      <td>...</td>\n",
       "      <td>   146661249</td>\n",
       "      <td>   153787754</td>\n",
       "      <td>   159993535</td>\n",
       "      <td>   157141435</td>\n",
       "      <td>   163066901</td>\n",
       "      <td>   169030399</td>\n",
       "      <td>   173601429</td>\n",
       "      <td>   174876574</td>\n",
       "      <td>   181908767</td>\n",
       "      <td> 01</td>\n",
       "    </tr>\n",
       "    <tr>\n",
       "      <th>4</th>\n",
       "      <td> 01000</td>\n",
       "      <td>       Alabama</td>\n",
       "      <td>  5</td>\n",
       "      <td> SA1</td>\n",
       "      <td> 2</td>\n",
       "      <td> ...</td>\n",
       "      <td>                 Population (persons) 1/</td>\n",
       "      <td>   2644000</td>\n",
       "      <td>   2647000</td>\n",
       "      <td>   2649000</td>\n",
       "      <td>...</td>\n",
       "      <td>     4628981</td>\n",
       "      <td>     4672840</td>\n",
       "      <td>     4718206</td>\n",
       "      <td>     4757938</td>\n",
       "      <td>     4785822</td>\n",
       "      <td>     4801695</td>\n",
       "      <td>     4817484</td>\n",
       "      <td>     4833996</td>\n",
       "      <td>     4849377</td>\n",
       "      <td> 01</td>\n",
       "    </tr>\n",
       "  </tbody>\n",
       "</table>\n",
       "<p>5 rows × 94 columns</p>\n",
       "</div>"
      ],
      "text/plain": [
       "  GeoFIPS        GeoName  Region Table  LineCode IndustryClassification  \\\n",
       "0   00000  United States     NaN   SA1         1                    ...   \n",
       "1   00000  United States     NaN   SA1         2                    ...   \n",
       "2   00000  United States     NaN   SA1         3                    ...   \n",
       "3   01000        Alabama       5   SA1         1                    ...   \n",
       "4   01000        Alabama       5   SA1         2                    ...   \n",
       "\n",
       "                               Description       1929       1930       1931  \\\n",
       "0   Personal income (thousands of dollars)   85126000   76371000   65507000   \n",
       "1                  Population (persons) 1/  121769000  123075000  124038000   \n",
       "2  Per capita personal income (dollars) 2/        699        621        528   \n",
       "3   Personal income (thousands of dollars)     842894     697154     583342   \n",
       "4                  Population (persons) 1/    2644000    2647000    2649000   \n",
       "\n",
       "  ...         2006         2007         2008         2009         2010  \\\n",
       "0 ...  11381350000  11995419000  12492705000  12079444000  12459613000   \n",
       "1 ...    298379912    301231207    304093966    306771529    309347057   \n",
       "2 ...        38144        39821        41082        39376        40277   \n",
       "3 ...    146661249    153787754    159993535    157141435    163066901   \n",
       "4 ...      4628981      4672840      4718206      4757938      4785822   \n",
       "\n",
       "          2011         2012         2013         2014  ST  \n",
       "0  13233436000  13904485000  14064468000  14683147000  00  \n",
       "1    311721632    314112078    316497531    318857056  00  \n",
       "2        42453        44266        44438        46049  00  \n",
       "3    169030399    173601429    174876574    181908767  01  \n",
       "4      4801695      4817484      4833996      4849377  01  \n",
       "\n",
       "[5 rows x 94 columns]"
      ]
     },
     "execution_count": 12,
     "metadata": {},
     "output_type": "execute_result"
    }
   ],
   "source": [
    "inc.head()"
   ]
  },
  {
   "cell_type": "markdown",
   "metadata": {},
   "source": [
    "1 - Personal Income\n",
    "2 - Population\n",
    "3 - Per Capita Personal Income"
   ]
  },
  {
   "cell_type": "code",
   "execution_count": 13,
   "metadata": {
    "collapsed": false
   },
   "outputs": [],
   "source": [
    "droplist = (['Table','GeoName','Description','Region','IndustryClassification'])\n",
    "\n",
    "inc.drop(droplist, inplace = True, axis = 1)"
   ]
  },
  {
   "cell_type": "markdown",
   "metadata": {},
   "source": [
    "This will drop the notes in the dataframe, as well as the unnecessary years"
   ]
  },
  {
   "cell_type": "code",
   "execution_count": 14,
   "metadata": {
    "collapsed": true
   },
   "outputs": [],
   "source": [
    "inc = inc.drop(inc.index[[180,181,182,183]])"
   ]
  },
  {
   "cell_type": "code",
   "execution_count": 15,
   "metadata": {
    "collapsed": true
   },
   "outputs": [],
   "source": [
    "inc.drop(['1929', '1930','1931','1932','1933','1934','1935','1936','1937','1938','1939','1940',\\\n",
    "            '1941','1942','1943','1944','1945','1946','1947','1948','1949','1950','1951','1952',\\\n",
    "            '1953','1954','1955','1956','1957','1958','1959','1960','1961','1962','1963','1964',\\\n",
    "            '1965','1966','1967','1968','1969','1970','1971','1972','1973','1974','1975','1976',\\\n",
    "            '1977','1978','1979','1980','1981','1982','1983'], axis = 1, inplace = True)"
   ]
  },
  {
   "cell_type": "code",
   "execution_count": 16,
   "metadata": {
    "collapsed": false
   },
   "outputs": [],
   "source": [
    "perinc = inc[inc['LineCode']==1]\n",
    "perpop = inc[inc['LineCode']==2]\n",
    "perpopinc = inc[inc['LineCode']==3]\n"
   ]
  },
  {
   "cell_type": "code",
   "execution_count": 17,
   "metadata": {
    "collapsed": false
   },
   "outputs": [
    {
     "name": "stderr",
     "output_type": "stream",
     "text": [
      "/Users/chadsmith/anaconda/lib/python2.7/site-packages/IPython/kernel/__main__.py:1: SettingWithCopyWarning: \n",
      "A value is trying to be set on a copy of a slice from a DataFrame\n",
      "\n",
      "See the the caveats in the documentation: http://pandas.pydata.org/pandas-docs/stable/indexing.html#indexing-view-versus-copy\n",
      "  if __name__ == '__main__':\n",
      "/Users/chadsmith/anaconda/lib/python2.7/site-packages/IPython/kernel/__main__.py:2: SettingWithCopyWarning: \n",
      "A value is trying to be set on a copy of a slice from a DataFrame\n",
      "\n",
      "See the the caveats in the documentation: http://pandas.pydata.org/pandas-docs/stable/indexing.html#indexing-view-versus-copy\n",
      "  from IPython.kernel.zmq import kernelapp as app\n",
      "/Users/chadsmith/anaconda/lib/python2.7/site-packages/IPython/kernel/__main__.py:3: SettingWithCopyWarning: \n",
      "A value is trying to be set on a copy of a slice from a DataFrame\n",
      "\n",
      "See the the caveats in the documentation: http://pandas.pydata.org/pandas-docs/stable/indexing.html#indexing-view-versus-copy\n",
      "  app.launch_new_instance()\n"
     ]
    }
   ],
   "source": [
    "perinc.drop(['LineCode', 'GeoFIPS'], inplace = True, axis = 1)\n",
    "perpop.drop(['LineCode', 'GeoFIPS'], inplace = True, axis = 1)\n",
    "perpopinc.drop(['LineCode', 'GeoFIPS'], inplace = True, axis = 1)"
   ]
  },
  {
   "cell_type": "markdown",
   "metadata": {},
   "source": [
    "I need to transpose this so that each year is a row"
   ]
  },
  {
   "cell_type": "code",
   "execution_count": 18,
   "metadata": {
    "collapsed": false
   },
   "outputs": [
    {
     "data": {
      "text/html": [
       "<div style=\"max-height:1000px;max-width:1500px;overflow:auto;\">\n",
       "<table border=\"1\" class=\"dataframe\">\n",
       "  <thead>\n",
       "    <tr style=\"text-align: right;\">\n",
       "      <th></th>\n",
       "      <th>1984</th>\n",
       "      <th>1985</th>\n",
       "      <th>1986</th>\n",
       "      <th>1987</th>\n",
       "      <th>1988</th>\n",
       "      <th>1989</th>\n",
       "      <th>1990</th>\n",
       "      <th>1991</th>\n",
       "      <th>1992</th>\n",
       "      <th>1993</th>\n",
       "      <th>...</th>\n",
       "      <th>2006</th>\n",
       "      <th>2007</th>\n",
       "      <th>2008</th>\n",
       "      <th>2009</th>\n",
       "      <th>2010</th>\n",
       "      <th>2011</th>\n",
       "      <th>2012</th>\n",
       "      <th>2013</th>\n",
       "      <th>2014</th>\n",
       "      <th>ST</th>\n",
       "    </tr>\n",
       "  </thead>\n",
       "  <tbody>\n",
       "    <tr>\n",
       "      <th>1 </th>\n",
       "      <td> 235824907</td>\n",
       "      <td> 237923734</td>\n",
       "      <td> 240132831</td>\n",
       "      <td> 242288936</td>\n",
       "      <td> 244499004</td>\n",
       "      <td> 246819222</td>\n",
       "      <td> 249622814</td>\n",
       "      <td> 252980941</td>\n",
       "      <td> 256514224</td>\n",
       "      <td> 259918588</td>\n",
       "      <td>...</td>\n",
       "      <td> 298379912</td>\n",
       "      <td> 301231207</td>\n",
       "      <td> 304093966</td>\n",
       "      <td> 306771529</td>\n",
       "      <td> 309347057</td>\n",
       "      <td> 311721632</td>\n",
       "      <td> 314112078</td>\n",
       "      <td> 316497531</td>\n",
       "      <td> 318857056</td>\n",
       "      <td> 00</td>\n",
       "    </tr>\n",
       "    <tr>\n",
       "      <th>4 </th>\n",
       "      <td>   3951824</td>\n",
       "      <td>   3972520</td>\n",
       "      <td>   3991569</td>\n",
       "      <td>   4015262</td>\n",
       "      <td>   4023842</td>\n",
       "      <td>   4030219</td>\n",
       "      <td>   4050055</td>\n",
       "      <td>   4099156</td>\n",
       "      <td>   4154014</td>\n",
       "      <td>   4214202</td>\n",
       "      <td>...</td>\n",
       "      <td>   4628981</td>\n",
       "      <td>   4672840</td>\n",
       "      <td>   4718206</td>\n",
       "      <td>   4757938</td>\n",
       "      <td>   4785822</td>\n",
       "      <td>   4801695</td>\n",
       "      <td>   4817484</td>\n",
       "      <td>   4833996</td>\n",
       "      <td>   4849377</td>\n",
       "      <td> 01</td>\n",
       "    </tr>\n",
       "    <tr>\n",
       "      <th>7 </th>\n",
       "      <td>    513704</td>\n",
       "      <td>    532496</td>\n",
       "      <td>    544269</td>\n",
       "      <td>    539310</td>\n",
       "      <td>    541984</td>\n",
       "      <td>    547160</td>\n",
       "      <td>    553290</td>\n",
       "      <td>    570193</td>\n",
       "      <td>    588736</td>\n",
       "      <td>    599432</td>\n",
       "      <td>...</td>\n",
       "      <td>    675302</td>\n",
       "      <td>    680300</td>\n",
       "      <td>    687455</td>\n",
       "      <td>    698895</td>\n",
       "      <td>    713856</td>\n",
       "      <td>    722572</td>\n",
       "      <td>    731081</td>\n",
       "      <td>    737259</td>\n",
       "      <td>    736732</td>\n",
       "      <td> 02</td>\n",
       "    </tr>\n",
       "    <tr>\n",
       "      <th>10</th>\n",
       "      <td>   3067134</td>\n",
       "      <td>   3183539</td>\n",
       "      <td>   3308261</td>\n",
       "      <td>   3437103</td>\n",
       "      <td>   3535183</td>\n",
       "      <td>   3622184</td>\n",
       "      <td>   3684097</td>\n",
       "      <td>   3788576</td>\n",
       "      <td>   3915740</td>\n",
       "      <td>   4065440</td>\n",
       "      <td>...</td>\n",
       "      <td>   6029141</td>\n",
       "      <td>   6167681</td>\n",
       "      <td>   6280362</td>\n",
       "      <td>   6343154</td>\n",
       "      <td>   6411999</td>\n",
       "      <td>   6472867</td>\n",
       "      <td>   6556236</td>\n",
       "      <td>   6634997</td>\n",
       "      <td>   6731484</td>\n",
       "      <td> 04</td>\n",
       "    </tr>\n",
       "    <tr>\n",
       "      <th>13</th>\n",
       "      <td>   2319767</td>\n",
       "      <td>   2327046</td>\n",
       "      <td>   2331988</td>\n",
       "      <td>   2342357</td>\n",
       "      <td>   2342655</td>\n",
       "      <td>   2346354</td>\n",
       "      <td>   2356586</td>\n",
       "      <td>   2383144</td>\n",
       "      <td>   2415984</td>\n",
       "      <td>   2456303</td>\n",
       "      <td>...</td>\n",
       "      <td>   2821761</td>\n",
       "      <td>   2848650</td>\n",
       "      <td>   2874554</td>\n",
       "      <td>   2896843</td>\n",
       "      <td>   2922297</td>\n",
       "      <td>   2938430</td>\n",
       "      <td>   2949300</td>\n",
       "      <td>   2958765</td>\n",
       "      <td>   2966369</td>\n",
       "      <td> 05</td>\n",
       "    </tr>\n",
       "  </tbody>\n",
       "</table>\n",
       "<p>5 rows × 32 columns</p>\n",
       "</div>"
      ],
      "text/plain": [
       "         1984       1985       1986       1987       1988       1989  \\\n",
       "1   235824907  237923734  240132831  242288936  244499004  246819222   \n",
       "4     3951824    3972520    3991569    4015262    4023842    4030219   \n",
       "7      513704     532496     544269     539310     541984     547160   \n",
       "10    3067134    3183539    3308261    3437103    3535183    3622184   \n",
       "13    2319767    2327046    2331988    2342357    2342655    2346354   \n",
       "\n",
       "         1990       1991       1992       1993 ...       2006       2007  \\\n",
       "1   249622814  252980941  256514224  259918588 ...  298379912  301231207   \n",
       "4     4050055    4099156    4154014    4214202 ...    4628981    4672840   \n",
       "7      553290     570193     588736     599432 ...     675302     680300   \n",
       "10    3684097    3788576    3915740    4065440 ...    6029141    6167681   \n",
       "13    2356586    2383144    2415984    2456303 ...    2821761    2848650   \n",
       "\n",
       "         2008       2009       2010       2011       2012       2013  \\\n",
       "1   304093966  306771529  309347057  311721632  314112078  316497531   \n",
       "4     4718206    4757938    4785822    4801695    4817484    4833996   \n",
       "7      687455     698895     713856     722572     731081     737259   \n",
       "10    6280362    6343154    6411999    6472867    6556236    6634997   \n",
       "13    2874554    2896843    2922297    2938430    2949300    2958765   \n",
       "\n",
       "         2014  ST  \n",
       "1   318857056  00  \n",
       "4     4849377  01  \n",
       "7      736732  02  \n",
       "10    6731484  04  \n",
       "13    2966369  05  \n",
       "\n",
       "[5 rows x 32 columns]"
      ]
     },
     "execution_count": 18,
     "metadata": {},
     "output_type": "execute_result"
    }
   ],
   "source": [
    "perpop.head()"
   ]
  },
  {
   "cell_type": "code",
   "execution_count": 19,
   "metadata": {
    "collapsed": false
   },
   "outputs": [],
   "source": [
    "perinc = perinc.set_index(['ST'])"
   ]
  },
  {
   "cell_type": "code",
   "execution_count": 20,
   "metadata": {
    "collapsed": false
   },
   "outputs": [],
   "source": [
    "t = perinc.stack()"
   ]
  },
  {
   "cell_type": "code",
   "execution_count": null,
   "metadata": {
    "collapsed": true
   },
   "outputs": [],
   "source": []
  },
  {
   "cell_type": "code",
   "execution_count": 21,
   "metadata": {
    "collapsed": true
   },
   "outputs": [],
   "source": [
    "df = pd.read_csv('../data/debt_out.csv')"
   ]
  },
  {
   "cell_type": "markdown",
   "metadata": {},
   "source": [
    "This is the list of variables (largly costats) that are not required for this analysis"
   ]
  },
  {
   "cell_type": "code",
   "execution_count": 22,
   "metadata": {
    "collapsed": true
   },
   "outputs": [],
   "source": [
    "droplist =(['FIPSST','POP_TH18','POP_OV65','TOT_EMP','MFG_EMP','RETL_EMP','T_PUB_SCH',\\\n",
    "            'PUB_SCHL','PVT_SCHL','HSLD_PERS','HSG_UNITS','CH_HS_UNT','PRE_1940','VACANT',\\\n",
    "            'MDHOMEVAL','MED_INC','PC_INC','LANDAREA','GEN_REV','IGR_ST','TAX_REV','PT_REV',\\\n",
    "            'D_GEN_EXP','PC_GEN_EXP','RES_POP','PERS_POVT','SS_PERS','SS_PMT','POVT_PCT','FIPSCO',\\\n",
    "            'ST_MED_H_V','ST_MED_INC','ST_PC_INC','ST_L_GREV','ST_IGR_ST','ST_L_TAX','ST_PT_REV',\\\n",
    "            'ST_L_EXP','ST_P_LEXP','FIPST_N','RATE_L','RATE_L2','MRATE_L','CRATE_L','SRATE_L',\\\n",
    "            'SRATE_L2','MRATE_L2','CRATE_L2','MLEVY_L','CLEVY_L','CLEVY_L2','MLEVY_L2','MLEVY_L3',\\\n",
    "            'SLEVY_L','CLEVY_L3','CLEVY_L4','MLEVY_L4','SLEVY_L2','SLEVY_L3','SLEVY_L4','ASMT_L',\\\n",
    "            'ASMT_L2','ASMT_L3','CREVU_L','MREVU_L','SREVU_L','CGEXP_L','MGEXP_L','SGEXP_L','SGEXP_L2',\\\n",
    "            'MGEXP_L2','CFDISC_L','MFDISC_L','SFDISC_L','HOME_STEAD','HOME_STEAD2','HOME_STEAD3','CB_E',\\\n",
    "            'CB_G','CB_G2','CB_E2','CB_E3','CB_E4','FFDISC_L','TYPE1','TYPE2','BOTH','LIMITS',\\\n",
    "            'TYPE2_Y','SPC_RATE','LEVY_L','REVU_L','GEXP_L','GP_RATE','GP_LEVY','GP_REVU','GP_GEXP',\\\n",
    "            'GP_LMT','SC_LMT','TREND','FOOD_SERV_EMP_PNFARM','PRV_SCHL_KIND','OTH_SERV_EMP_PNFARM',\\\n",
    "            'PRV_SCHL_9_12','MANU_EMP_PNFARM','PUB_SCHL_OV3_M','PRV_SCHL_9_12_F','PRV_SCHL_ELEM_HS',\\\n",
    "            'PUB_SCHL_ELEM_HS','RES_POP1','PUB_SCHL_OV3_F','PRV_SCHL_PREK_F','RETL_EMP_PNFARM',\\\n",
    "            'PROF_SERV_EMP_PNFARM','PRV_SCHL_KIND_M','PRV_SCHL_PREK_M','SUPP_SERV_EMP_PNFARM',\\\n",
    "            'POV_EST_FAM_NUMER','EDUC_SERV_EMP_PNFARM','PRV_SCHL_PREK','PRV_SCHL_KIND_F',\\\n",
    "            'PRV_SCHL_1_8','PRV_SCHL_5_8_M','PUB_SCHL_TOT','PRV_SCHL_1_4_M','HSG_UNITS_ACS',\\\n",
    "            'TOT_AREA','POV_EST_FAM_DENOM','PUB_SCHL_OV3','RES_POP2','PRV_SCHL_9_12_M',\\\n",
    "            'PRV_SCHL_1_4_F','PRV_SCHL_5_8_F','TOT_EMP_PNFARM','RESPOP','DENSITY','POPGROWTH',\\\n",
    "            'PYOUNG','POP65','RESPOP2','PRE1940','PVT_SCH_02','PVT_SCH03_','POVERTY','PC_SSI',\\\n",
    "            'DIVERSITY','EMP_RES','MANU_RES','RETL_RES','SERV_RES'])"
   ]
  },
  {
   "cell_type": "code",
   "execution_count": 23,
   "metadata": {
    "collapsed": false
   },
   "outputs": [],
   "source": [
    "df.drop(droplist, inplace = True, axis = 1)"
   ]
  },
  {
   "cell_type": "code",
   "execution_count": 24,
   "metadata": {
    "collapsed": true
   },
   "outputs": [],
   "source": [
    "df['FIPS']=df.FIPS.astype('str')\n",
    "df['Year']=df.Year.astype('str')"
   ]
  },
  {
   "cell_type": "code",
   "execution_count": 25,
   "metadata": {
    "collapsed": false
   },
   "outputs": [],
   "source": [
    "df['FIPS'] = df['FIPS'].apply(lambda x: x.zfill(5))"
   ]
  },
  {
   "cell_type": "markdown",
   "metadata": {},
   "source": [
    "This establishes the list of dollar values that need to be deflated"
   ]
  },
  {
   "cell_type": "code",
   "execution_count": 26,
   "metadata": {
    "collapsed": false
   },
   "outputs": [],
   "source": [
    "dollar_list =(['GO','RV','GO_City, Town Vlg','GO_Co-op Utility',\\\n",
    "               'GO_College or Univ','GO_County/Parish','GO_Direct Issuer',\\\n",
    "               'GO_District','GO_Indian Tribe','GO_Local Authority',\\\n",
    "               'GO_State Authority','GO_State/Province','RV_City, Town Vlg',\\\n",
    "               'RV_Co-op Utility','RV_College or Univ','RV_County/Parish',\\\n",
    "               'RV_Direct Issuer','RV_District','RV_Indian Tribe','RV_Local Authority',\\\n",
    "               'RV_State Authority','RV_State/Province','GO_Development','GO_Education',\\\n",
    "               'GO_Electric Power','GO_Environmental Facilities','GO_General Purpose',\\\n",
    "               'GO_Healthcare','GO_Housing','GO_Public Facilities','GO_Transportation',\\\n",
    "               'GO_Utilities','RV_Development','RV_Education','RV_Electric Power',\\\n",
    "               'RV_Environmental Facilities','RV_General Purpose','RV_Healthcare',\\\n",
    "               'RV_Housing','RV_Public Facilities','RV_Transportation','RV_Utilities'])"
   ]
  },
  {
   "cell_type": "code",
   "execution_count": 27,
   "metadata": {
    "collapsed": false
   },
   "outputs": [],
   "source": [
    "defl.drop('SLDefl', inplace = True, axis = 1)"
   ]
  },
  {
   "cell_type": "code",
   "execution_count": 28,
   "metadata": {
    "collapsed": false
   },
   "outputs": [],
   "source": [
    "df = pd.merge(defl, df, left_on = 'yr', right_on = 'Year', how = 'right')"
   ]
  },
  {
   "cell_type": "markdown",
   "metadata": {},
   "source": [
    "This will deflate the $$$'s'"
   ]
  },
  {
   "cell_type": "code",
   "execution_count": 29,
   "metadata": {
    "collapsed": false
   },
   "outputs": [],
   "source": [
    "for i in dollar_list:\n",
    "    df[i] = df[i] * df['index']"
   ]
  },
  {
   "cell_type": "markdown",
   "metadata": {},
   "source": [
    "I think it is best to break the FIPS into the first two digits which is the state"
   ]
  },
  {
   "cell_type": "code",
   "execution_count": 30,
   "metadata": {
    "collapsed": true
   },
   "outputs": [],
   "source": [
    "df['ST']= df['FIPS'].str.extract('(..)')"
   ]
  },
  {
   "cell_type": "code",
   "execution_count": 31,
   "metadata": {
    "collapsed": false
   },
   "outputs": [],
   "source": [
    "df.drop(['yr','index'], inplace = True, axis = 1)"
   ]
  },
  {
   "cell_type": "code",
   "execution_count": 32,
   "metadata": {
    "collapsed": false
   },
   "outputs": [],
   "source": [
    "state_agg = df.groupby(['Year', 'ST']).sum()"
   ]
  },
  {
   "cell_type": "code",
   "execution_count": 34,
   "metadata": {
    "collapsed": false
   },
   "outputs": [
    {
     "data": {
      "text/html": [
       "<div style=\"max-height:1000px;max-width:1500px;overflow:auto;\">\n",
       "<table border=\"1\" class=\"dataframe\">\n",
       "  <thead>\n",
       "    <tr style=\"text-align: right;\">\n",
       "      <th></th>\n",
       "      <th></th>\n",
       "      <th>GO</th>\n",
       "      <th>RV</th>\n",
       "      <th>GO_City, Town Vlg</th>\n",
       "      <th>GO_Co-op Utility</th>\n",
       "      <th>GO_College or Univ</th>\n",
       "      <th>GO_County/Parish</th>\n",
       "      <th>GO_Direct Issuer</th>\n",
       "      <th>GO_District</th>\n",
       "      <th>GO_Indian Tribe</th>\n",
       "      <th>GO_Local Authority</th>\n",
       "      <th>...</th>\n",
       "      <th>RV_Development</th>\n",
       "      <th>RV_Education</th>\n",
       "      <th>RV_Electric Power</th>\n",
       "      <th>RV_Environmental Facilities</th>\n",
       "      <th>RV_General Purpose</th>\n",
       "      <th>RV_Healthcare</th>\n",
       "      <th>RV_Housing</th>\n",
       "      <th>RV_Public Facilities</th>\n",
       "      <th>RV_Transportation</th>\n",
       "      <th>RV_Utilities</th>\n",
       "    </tr>\n",
       "    <tr>\n",
       "      <th>Year</th>\n",
       "      <th>ST</th>\n",
       "      <th></th>\n",
       "      <th></th>\n",
       "      <th></th>\n",
       "      <th></th>\n",
       "      <th></th>\n",
       "      <th></th>\n",
       "      <th></th>\n",
       "      <th></th>\n",
       "      <th></th>\n",
       "      <th></th>\n",
       "      <th></th>\n",
       "      <th></th>\n",
       "      <th></th>\n",
       "      <th></th>\n",
       "      <th></th>\n",
       "      <th></th>\n",
       "      <th></th>\n",
       "      <th></th>\n",
       "      <th></th>\n",
       "      <th></th>\n",
       "      <th></th>\n",
       "    </tr>\n",
       "  </thead>\n",
       "  <tbody>\n",
       "    <tr>\n",
       "      <th rowspan=\"5\" valign=\"top\">1984</th>\n",
       "      <th>01</th>\n",
       "      <td>  371.058034</td>\n",
       "      <td>  3904.337431</td>\n",
       "      <td> 202.035888</td>\n",
       "      <td> 0</td>\n",
       "      <td> 0</td>\n",
       "      <td>  162.984520</td>\n",
       "      <td> 0</td>\n",
       "      <td>    6.037626</td>\n",
       "      <td> 0</td>\n",
       "      <td>   0.00000</td>\n",
       "      <td>...</td>\n",
       "      <td>  303.970343</td>\n",
       "      <td>   63.902239</td>\n",
       "      <td>   28.847779</td>\n",
       "      <td>  897.287898</td>\n",
       "      <td>   12.075253</td>\n",
       "      <td>  788.282175</td>\n",
       "      <td>  391.955466</td>\n",
       "      <td>  51.773855</td>\n",
       "      <td> 1013.560509</td>\n",
       "      <td>  352.681914</td>\n",
       "    </tr>\n",
       "    <tr>\n",
       "      <th>02</th>\n",
       "      <td>   79.769121</td>\n",
       "      <td>   675.042867</td>\n",
       "      <td>  40.246818</td>\n",
       "      <td> 0</td>\n",
       "      <td> 0</td>\n",
       "      <td>    0.000000</td>\n",
       "      <td> 0</td>\n",
       "      <td>    0.000000</td>\n",
       "      <td> 0</td>\n",
       "      <td>   0.00000</td>\n",
       "      <td>...</td>\n",
       "      <td>   54.978627</td>\n",
       "      <td>   14.490304</td>\n",
       "      <td>    0.000000</td>\n",
       "      <td>    0.000000</td>\n",
       "      <td>    0.000000</td>\n",
       "      <td>    0.000000</td>\n",
       "      <td>  605.573937</td>\n",
       "      <td>   0.000000</td>\n",
       "      <td>    0.000000</td>\n",
       "      <td>    0.000000</td>\n",
       "    </tr>\n",
       "    <tr>\n",
       "      <th>04</th>\n",
       "      <td>  972.224503</td>\n",
       "      <td>  2282.556090</td>\n",
       "      <td> 293.945468</td>\n",
       "      <td> 0</td>\n",
       "      <td> 0</td>\n",
       "      <td>  123.397010</td>\n",
       "      <td> 0</td>\n",
       "      <td>  554.882025</td>\n",
       "      <td> 0</td>\n",
       "      <td>   0.00000</td>\n",
       "      <td>...</td>\n",
       "      <td>  327.565387</td>\n",
       "      <td>   72.705098</td>\n",
       "      <td>   63.056971</td>\n",
       "      <td>  549.448161</td>\n",
       "      <td>  169.232255</td>\n",
       "      <td>  349.083488</td>\n",
       "      <td>  326.210544</td>\n",
       "      <td>  16.398194</td>\n",
       "      <td>  223.597459</td>\n",
       "      <td>  185.258531</td>\n",
       "    </tr>\n",
       "    <tr>\n",
       "      <th>05</th>\n",
       "      <td>   35.027894</td>\n",
       "      <td>   394.870433</td>\n",
       "      <td>   7.245152</td>\n",
       "      <td> 0</td>\n",
       "      <td> 0</td>\n",
       "      <td>    0.000000</td>\n",
       "      <td> 0</td>\n",
       "      <td>   27.782742</td>\n",
       "      <td> 0</td>\n",
       "      <td>   0.00000</td>\n",
       "      <td>...</td>\n",
       "      <td>   67.923298</td>\n",
       "      <td>   23.447726</td>\n",
       "      <td>    0.000000</td>\n",
       "      <td>   77.643877</td>\n",
       "      <td>    0.000000</td>\n",
       "      <td>   51.017944</td>\n",
       "      <td>  125.039245</td>\n",
       "      <td>   9.660202</td>\n",
       "      <td>   16.905354</td>\n",
       "      <td>   23.232787</td>\n",
       "    </tr>\n",
       "    <tr>\n",
       "      <th>06</th>\n",
       "      <td> 8639.488492</td>\n",
       "      <td> 17662.146497</td>\n",
       "      <td> 747.347067</td>\n",
       "      <td> 0</td>\n",
       "      <td> 0</td>\n",
       "      <td> 1991.689811</td>\n",
       "      <td> 0</td>\n",
       "      <td> 1328.548313</td>\n",
       "      <td> 0</td>\n",
       "      <td> 780.18934</td>\n",
       "      <td>...</td>\n",
       "      <td> 1427.657159</td>\n",
       "      <td> 1217.103388</td>\n",
       "      <td> 2038.242326</td>\n",
       "      <td> 1303.173376</td>\n",
       "      <td> 2703.134736</td>\n",
       "      <td> 1297.155070</td>\n",
       "      <td> 4311.973821</td>\n",
       "      <td> 570.302123</td>\n",
       "      <td> 1621.805492</td>\n",
       "      <td> 1171.599005</td>\n",
       "    </tr>\n",
       "  </tbody>\n",
       "</table>\n",
       "<p>5 rows × 42 columns</p>\n",
       "</div>"
      ],
      "text/plain": [
       "                  GO            RV  GO_City, Town Vlg  GO_Co-op Utility  \\\n",
       "Year ST                                                                   \n",
       "1984 01   371.058034   3904.337431         202.035888                 0   \n",
       "     02    79.769121    675.042867          40.246818                 0   \n",
       "     04   972.224503   2282.556090         293.945468                 0   \n",
       "     05    35.027894    394.870433           7.245152                 0   \n",
       "     06  8639.488492  17662.146497         747.347067                 0   \n",
       "\n",
       "         GO_College or Univ  GO_County/Parish  GO_Direct Issuer  GO_District  \\\n",
       "Year ST                                                                        \n",
       "1984 01                   0        162.984520                 0     6.037626   \n",
       "     02                   0          0.000000                 0     0.000000   \n",
       "     04                   0        123.397010                 0   554.882025   \n",
       "     05                   0          0.000000                 0    27.782742   \n",
       "     06                   0       1991.689811                 0  1328.548313   \n",
       "\n",
       "         GO_Indian Tribe  GO_Local Authority      ...       RV_Development  \\\n",
       "Year ST                                           ...                        \n",
       "1984 01                0             0.00000      ...           303.970343   \n",
       "     02                0             0.00000      ...            54.978627   \n",
       "     04                0             0.00000      ...           327.565387   \n",
       "     05                0             0.00000      ...            67.923298   \n",
       "     06                0           780.18934      ...          1427.657159   \n",
       "\n",
       "         RV_Education  RV_Electric Power  RV_Environmental Facilities  \\\n",
       "Year ST                                                                 \n",
       "1984 01     63.902239          28.847779                   897.287898   \n",
       "     02     14.490304           0.000000                     0.000000   \n",
       "     04     72.705098          63.056971                   549.448161   \n",
       "     05     23.447726           0.000000                    77.643877   \n",
       "     06   1217.103388        2038.242326                  1303.173376   \n",
       "\n",
       "         RV_General Purpose  RV_Healthcare   RV_Housing  RV_Public Facilities  \\\n",
       "Year ST                                                                         \n",
       "1984 01           12.075253     788.282175   391.955466             51.773855   \n",
       "     02            0.000000       0.000000   605.573937              0.000000   \n",
       "     04          169.232255     349.083488   326.210544             16.398194   \n",
       "     05            0.000000      51.017944   125.039245              9.660202   \n",
       "     06         2703.134736    1297.155070  4311.973821            570.302123   \n",
       "\n",
       "         RV_Transportation  RV_Utilities  \n",
       "Year ST                                   \n",
       "1984 01        1013.560509    352.681914  \n",
       "     02           0.000000      0.000000  \n",
       "     04         223.597459    185.258531  \n",
       "     05          16.905354     23.232787  \n",
       "     06        1621.805492   1171.599005  \n",
       "\n",
       "[5 rows x 42 columns]"
      ]
     },
     "execution_count": 34,
     "metadata": {},
     "output_type": "execute_result"
    }
   ],
   "source": [
    "state_agg.head()"
   ]
  },
  {
   "cell_type": "markdown",
   "metadata": {},
   "source": [
    "At this point, I have the income, and population, and percap family income in three separate dataframes. perinc, perpop, and perpopinc.\n",
    "\n",
    "The debt data has been deflated and is in the dataframe labelled df.\n",
    "\n",
    "At this point, I need to aggregate the debt data and then divide by the per capita numbers at different levels of analysis. I have the data aggregated at the state level in state_agg.\n",
    "\n"
   ]
  },
  {
   "cell_type": "markdown",
   "metadata": {},
   "source": [
    "#STUCK\n",
    "\n",
    "I have been unable to get the income and population data cobind with the debt data."
   ]
  },
  {
   "cell_type": "code",
   "execution_count": 38,
   "metadata": {
    "collapsed": false
   },
   "outputs": [
    {
     "ename": "SyntaxError",
     "evalue": "invalid syntax (<ipython-input-38-8a1ef00df74b>, line 1)",
     "output_type": "error",
     "traceback": [
      "\u001b[0;36m  File \u001b[0;32m\"<ipython-input-38-8a1ef00df74b>\"\u001b[0;36m, line \u001b[0;32m1\u001b[0m\n\u001b[0;31m    We will be using the BEA region definitions that are found [here](http://www.bea.gov/regional/docs/regions.cfm). This file was added to the data file and labeled region.\u001b[0m\n\u001b[0m          ^\u001b[0m\n\u001b[0;31mSyntaxError\u001b[0m\u001b[0;31m:\u001b[0m invalid syntax\n"
     ]
    }
   ],
   "source": [
    "We will be using the BEA region definitions that are found [here](http://www.bea.gov/regional/docs/regions.cfm). This file was added to the data file and labeled region."
   ]
  },
  {
   "cell_type": "code",
   "execution_count": null,
   "metadata": {
    "collapsed": true
   },
   "outputs": [],
   "source": []
  }
 ],
 "metadata": {
  "kernelspec": {
   "display_name": "Python 2",
   "language": "python",
   "name": "python2"
  },
  "language_info": {
   "codemirror_mode": {
    "name": "ipython",
    "version": 2
   },
   "file_extension": ".py",
   "mimetype": "text/x-python",
   "name": "python",
   "nbconvert_exporter": "python",
   "pygments_lexer": "ipython2",
   "version": "2.7.9"
  }
 },
 "nbformat": 4,
 "nbformat_minor": 0
}
