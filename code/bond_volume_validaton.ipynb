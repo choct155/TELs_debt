{
 "cells": [
  {
   "cell_type": "markdown",
   "metadata": {},
   "source": [
    "# Validating Bond Issue Totals"
   ]
  },
  {
   "cell_type": "markdown",
   "metadata": {},
   "source": [
    "To give us some confidence n the comprehensiveness of our bond issue data, we are trying to partially validate said data against Census debt totals."
   ]
  },
  {
   "cell_type": "code",
   "execution_count": 21,
   "metadata": {
    "collapsed": false
   },
   "outputs": [],
   "source": [
    "import numpy as np\n",
    "import pandas as pd\n",
    "from pandas import Series,DataFrame\n",
    "\n",
    "from IPython.display import Image"
   ]
  },
  {
   "cell_type": "markdown",
   "metadata": {},
   "source": [
    "## Data Input"
   ]
  },
  {
   "cell_type": "markdown",
   "metadata": {},
   "source": [
    "Let's read in the data so we can compare the debt volume totals to Census data."
   ]
  },
  {
   "cell_type": "code",
   "execution_count": 19,
   "metadata": {
    "collapsed": false
   },
   "outputs": [
    {
     "name": "stdout",
     "output_type": "stream",
     "text": [
      "-  >> 0\n",
      "\n",
      "-  >> 0\n",
      "\n",
      "-  >> 0\n",
      "\n",
      "-  >> 0\n",
      "\n",
      "-  >> 0\n",
      "\n",
      "-  >> 0\n",
      "\n",
      "-  >> 0\n",
      "\n",
      "-  >> 0\n",
      "\n",
      "-  >> 0\n",
      "\n",
      "-  >> 0\n",
      "\n",
      "-  >> 0\n",
      "\n",
      "-  >> 0\n",
      "\n",
      "-  >> 0\n",
      "\n",
      "-  >> 0\n",
      "\n",
      "-  >> 0\n",
      "\n",
      "-  >> 0\n",
      "\n",
      "-  >> 0\n",
      "\n",
      "-  >> 0\n",
      "\n",
      "-  >> 0\n",
      "\n",
      "-  >> 0\n",
      "\n",
      "-  >> 0\n",
      "\n"
     ]
    },
    {
     "data": {
      "text/plain": [
       "['DomicileNationName',\n",
       " 'Issue\\nDate',\n",
       " 'Issuer',\n",
       " 'TF Macro Description',\n",
       " 'TF Mid Description',\n",
       " 'Target Market\\nLong Description',\n",
       " 'Issue\\nType\\nDescription',\n",
       " 'Secur-\\n ity\\n Code',\n",
       " 'Cur-\\nrency',\n",
       " 'Principal \\nAmt - in \\nthis Mkt \\n($ mil)',\n",
       " 'Offer\\nPrice',\n",
       " 'Proceeds \\nAmt inc. \\nOver Sold -\\nin this Mkt\\n($ mil)',\n",
       " 'Proceeds\\nAmt inc.\\nOver Sold-\\nin this Mkt\\n(Host mil)',\n",
       " 'Total \\nAmt on \\nProspectus\\n(US Mil,\\n Global)',\n",
       " 'Coupon\\n (%)',\n",
       " 'Maturity',\n",
       " \"Stan-\\ndard\\n &\\nPoor's\\nRating\",\n",
       " 'Moody\\nRating',\n",
       " 'Spread\\n  to\\nBench-\\nMark',\n",
       " 'Bookrunner(s)',\n",
       " 'Number\\nof\\nBookrunners\\nby\\nUnique\\nParents',\n",
       " 'All Managers',\n",
       " 'All Managers\\nRole Description',\n",
       " 'Gross Spread\\nas % of \\nPrncpl Amt -\\nin this Mkt',\n",
       " 'Gross \\nSpread - \\nin this \\nMkt ($ mil)',\n",
       " 'date',\n",
       " 'year',\n",
       " 'princ_amt']"
      ]
     },
     "execution_count": 19,
     "metadata": {},
     "output_type": "execute_result"
    }
   ],
   "source": [
    "#Read in data\n",
    "bonds=pd.read_csv('bonds.csv',index_col=['DomicileNationName'])\n",
    "\n",
    "#Subset to US\n",
    "bonds_us=bonds.ix[['-','United States']].reset_index()\n",
    "\n",
    "#Create datetime date variable\n",
    "bonds_us['date']=bonds_us['Issue\\nDate'].apply(lambda x: pd.to_datetime(x))\n",
    "\n",
    "#Create year variable\n",
    "bonds_us['year']=bonds_us['Issue\\nDate'].apply(lambda x: pd.to_datetime(x).year)\n",
    "\n",
    "def str2flt(x):\n",
    "    try:\n",
    "        return float(x.replace(',',''))\n",
    "    except:\n",
    "        print x,' >> 0\\n'\n",
    "        return 0.\n",
    "\n",
    "#Create numeric principal amount variable\n",
    "bonds_us['princ_amt']=bonds_us['Principal \\nAmt - in \\nthis Mkt \\n($ mil)'].apply(lambda x: str2flt(x))\n",
    "\n",
    "[var for var in bonds_us.columns]"
   ]
  },
  {
   "cell_type": "markdown",
   "metadata": {},
   "source": [
    "Here are the debt totals from 2013.  Since our data aren't on the fiscal year, we are just looking for rough correspondence in orders of magnitude.  Note the dollars in the table below are in $000s."
   ]
  },
  {
   "cell_type": "code",
   "execution_count": 22,
   "metadata": {
    "collapsed": false
   },
   "outputs": [
    {
     "data": {
      "image/png": "[encoded data removed]",
      "text/plain": [
       "<IPython.core.display.Image object>"
      ]
     },
     "execution_count": 22,
     "metadata": {},
     "output_type": "execute_result"
    }
   ],
   "source": [
    "Image('2013_GFS_debt.png')"
   ]
  },
  {
   "cell_type": "markdown",
   "metadata": {},
   "source": [
    "And what is the volume represented in our data (which are in $M)?"
   ]
  },
  {
   "cell_type": "code",
   "execution_count": 24,
   "metadata": {
    "collapsed": false
   },
   "outputs": [
    {
     "data": {
      "text/plain": [
       "24811.04000000003"
      ]
     },
     "execution_count": 24,
     "metadata": {},
     "output_type": "execute_result"
    }
   ],
   "source": [
    "bonds_us[bonds_us['year']==2013]['princ_amt'].sum()"
   ]
  },
  {
   "cell_type": "markdown",
   "metadata": {},
   "source": [
    "Hmmmmm.  Hopefully there is something I don't understand about these data."
   ]
  },
  {
   "cell_type": "code",
   "execution_count": null,
   "metadata": {
    "collapsed": true
   },
   "outputs": [],
   "source": []
  }
 ],
 "metadata": {
  "kernelspec": {
   "display_name": "Python 2",
   "language": "python",
   "name": "python2"
  },
  "language_info": {
   "codemirror_mode": {
    "name": "ipython",
    "version": 2
   },
   "file_extension": ".py",
   "mimetype": "text/x-python",
   "name": "python",
   "nbconvert_exporter": "python",
   "pygments_lexer": "ipython2",
   "version": "2.7.10"
  }
 },
 "nbformat": 4,
 "nbformat_minor": 0
}
